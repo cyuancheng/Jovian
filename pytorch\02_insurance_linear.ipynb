{
  "nbformat": 4,
  "nbformat_minor": 0,
  "metadata": {
    "kernelspec": {
      "display_name": "Python 3",
      "language": "python",
      "name": "python3"
    },
    "language_info": {
      "codemirror_mode": {
        "name": "ipython",
        "version": 3
      },
      "file_extension": ".py",
      "mimetype": "text/x-python",
      "name": "python",
      "nbconvert_exporter": "python",
      "pygments_lexer": "ipython3",
      "version": "3.8.5"
    },
    "colab": {
      "name": "02-insurance-linear.ipynb",
      "provenance": []
    },
    "widgets": {
      "application/vnd.jupyter.widget-state+json": {
        "4c8cc8694c254ba89e530abefd83d8be": {
          "model_module": "@jupyter-widgets/controls",
          "model_name": "HBoxModel",
          "state": {
            "_view_name": "HBoxView",
            "_dom_classes": [],
            "_model_name": "HBoxModel",
            "_view_module": "@jupyter-widgets/controls",
            "_model_module_version": "1.5.0",
            "_view_count": null,
            "_view_module_version": "1.5.0",
            "box_style": "",
            "layout": "IPY_MODEL_153cfbf2fd1442d289983d9239334344",
            "_model_module": "@jupyter-widgets/controls",
            "children": [
              "IPY_MODEL_d3660b1c806f41799d09c20fc885402f",
              "IPY_MODEL_523edb8601ba4c158c43140db7851e3f"
            ]
          }
        },
        "153cfbf2fd1442d289983d9239334344": {
          "model_module": "@jupyter-widgets/base",
          "model_name": "LayoutModel",
          "state": {
            "_view_name": "LayoutView",
            "grid_template_rows": null,
            "right": null,
            "justify_content": null,
            "_view_module": "@jupyter-widgets/base",
            "overflow": null,
            "_model_module_version": "1.2.0",
            "_view_count": null,
            "flex_flow": null,
            "width": null,
            "min_width": null,
            "border": null,
            "align_items": null,
            "bottom": null,
            "_model_module": "@jupyter-widgets/base",
            "top": null,
            "grid_column": null,
            "overflow_y": null,
            "overflow_x": null,
            "grid_auto_flow": null,
            "grid_area": null,
            "grid_template_columns": null,
            "flex": null,
            "_model_name": "LayoutModel",
            "justify_items": null,
            "grid_row": null,
            "max_height": null,
            "align_content": null,
            "visibility": null,
            "align_self": null,
            "height": null,
            "min_height": null,
            "padding": null,
            "grid_auto_rows": null,
            "grid_gap": null,
            "max_width": null,
            "order": null,
            "_view_module_version": "1.2.0",
            "grid_template_areas": null,
            "object_position": null,
            "object_fit": null,
            "grid_auto_columns": null,
            "margin": null,
            "display": null,
            "left": null
          }
        },
        "d3660b1c806f41799d09c20fc885402f": {
          "model_module": "@jupyter-widgets/controls",
          "model_name": "FloatProgressModel",
          "state": {
            "_view_name": "ProgressView",
            "style": "IPY_MODEL_58bf63b6b561447c9722cdd7bb394583",
            "_dom_classes": [],
            "description": "",
            "_model_name": "FloatProgressModel",
            "bar_style": "info",
            "max": 1,
            "_view_module": "@jupyter-widgets/controls",
            "_model_module_version": "1.5.0",
            "value": 1,
            "_view_count": null,
            "_view_module_version": "1.5.0",
            "orientation": "horizontal",
            "min": 0,
            "description_tooltip": null,
            "_model_module": "@jupyter-widgets/controls",
            "layout": "IPY_MODEL_d8096893a2774b5aa8baf12560e1947d"
          }
        },
        "523edb8601ba4c158c43140db7851e3f": {
          "model_module": "@jupyter-widgets/controls",
          "model_name": "HTMLModel",
          "state": {
            "_view_name": "HTMLView",
            "style": "IPY_MODEL_e87d4125b6b245229b7227e0bb04e446",
            "_dom_classes": [],
            "description": "",
            "_model_name": "HTMLModel",
            "placeholder": "​",
            "_view_module": "@jupyter-widgets/controls",
            "_model_module_version": "1.5.0",
            "value": " 57344/? [00:20&lt;00:00, 150377.92it/s]",
            "_view_count": null,
            "_view_module_version": "1.5.0",
            "description_tooltip": null,
            "_model_module": "@jupyter-widgets/controls",
            "layout": "IPY_MODEL_ae0c935a20d74b008f0e65dd7a384a2c"
          }
        },
        "58bf63b6b561447c9722cdd7bb394583": {
          "model_module": "@jupyter-widgets/controls",
          "model_name": "ProgressStyleModel",
          "state": {
            "_view_name": "StyleView",
            "_model_name": "ProgressStyleModel",
            "description_width": "initial",
            "_view_module": "@jupyter-widgets/base",
            "_model_module_version": "1.5.0",
            "_view_count": null,
            "_view_module_version": "1.2.0",
            "bar_color": null,
            "_model_module": "@jupyter-widgets/controls"
          }
        },
        "d8096893a2774b5aa8baf12560e1947d": {
          "model_module": "@jupyter-widgets/base",
          "model_name": "LayoutModel",
          "state": {
            "_view_name": "LayoutView",
            "grid_template_rows": null,
            "right": null,
            "justify_content": null,
            "_view_module": "@jupyter-widgets/base",
            "overflow": null,
            "_model_module_version": "1.2.0",
            "_view_count": null,
            "flex_flow": null,
            "width": null,
            "min_width": null,
            "border": null,
            "align_items": null,
            "bottom": null,
            "_model_module": "@jupyter-widgets/base",
            "top": null,
            "grid_column": null,
            "overflow_y": null,
            "overflow_x": null,
            "grid_auto_flow": null,
            "grid_area": null,
            "grid_template_columns": null,
            "flex": null,
            "_model_name": "LayoutModel",
            "justify_items": null,
            "grid_row": null,
            "max_height": null,
            "align_content": null,
            "visibility": null,
            "align_self": null,
            "height": null,
            "min_height": null,
            "padding": null,
            "grid_auto_rows": null,
            "grid_gap": null,
            "max_width": null,
            "order": null,
            "_view_module_version": "1.2.0",
            "grid_template_areas": null,
            "object_position": null,
            "object_fit": null,
            "grid_auto_columns": null,
            "margin": null,
            "display": null,
            "left": null
          }
        },
        "e87d4125b6b245229b7227e0bb04e446": {
          "model_module": "@jupyter-widgets/controls",
          "model_name": "DescriptionStyleModel",
          "state": {
            "_view_name": "StyleView",
            "_model_name": "DescriptionStyleModel",
            "description_width": "",
            "_view_module": "@jupyter-widgets/base",
            "_model_module_version": "1.5.0",
            "_view_count": null,
            "_view_module_version": "1.2.0",
            "_model_module": "@jupyter-widgets/controls"
          }
        },
        "ae0c935a20d74b008f0e65dd7a384a2c": {
          "model_module": "@jupyter-widgets/base",
          "model_name": "LayoutModel",
          "state": {
            "_view_name": "LayoutView",
            "grid_template_rows": null,
            "right": null,
            "justify_content": null,
            "_view_module": "@jupyter-widgets/base",
            "overflow": null,
            "_model_module_version": "1.2.0",
            "_view_count": null,
            "flex_flow": null,
            "width": null,
            "min_width": null,
            "border": null,
            "align_items": null,
            "bottom": null,
            "_model_module": "@jupyter-widgets/base",
            "top": null,
            "grid_column": null,
            "overflow_y": null,
            "overflow_x": null,
            "grid_auto_flow": null,
            "grid_area": null,
            "grid_template_columns": null,
            "flex": null,
            "_model_name": "LayoutModel",
            "justify_items": null,
            "grid_row": null,
            "max_height": null,
            "align_content": null,
            "visibility": null,
            "align_self": null,
            "height": null,
            "min_height": null,
            "padding": null,
            "grid_auto_rows": null,
            "grid_gap": null,
            "max_width": null,
            "order": null,
            "_view_module_version": "1.2.0",
            "grid_template_areas": null,
            "object_position": null,
            "object_fit": null,
            "grid_auto_columns": null,
            "margin": null,
            "display": null,
            "left": null
          }
        }
      }
    }
  },
  "cells": [
    {
      "cell_type": "code",
      "metadata": {
        "id": "nAtBvom_-Ghh",
        "colab": {
          "base_uri": "https://localhost:8080/"
        },
        "outputId": "059ca3b5-d6b4-407a-917c-57d684237a2b"
      },
      "source": [
        "# Jovian Commit Essentials\n",
        "# Please retain and execute this cell without modifying the contents for `jovian.commit` to work\n",
        "!pip install jovian --upgrade -q\n",
        "import jovian\n",
        "jovian.set_project('02-insurance-linear-regression')\n",
        "jovian.set_colab_id('1-AhKqAzxds6UGjidVIMoQUBxO7xwbJY0')"
      ],
      "execution_count": 1,
      "outputs": [
        {
          "output_type": "stream",
          "text": [
            "\u001b[?25l\r\u001b[K     |████▉                           | 10kB 19.1MB/s eta 0:00:01\r\u001b[K     |█████████▊                      | 20kB 15.1MB/s eta 0:00:01\r\u001b[K     |██████████████▌                 | 30kB 9.9MB/s eta 0:00:01\r\u001b[K     |███████████████████▍            | 40kB 7.2MB/s eta 0:00:01\r\u001b[K     |████████████████████████▏       | 51kB 4.2MB/s eta 0:00:01\r\u001b[K     |█████████████████████████████   | 61kB 4.9MB/s eta 0:00:01\r\u001b[K     |████████████████████████████████| 71kB 2.9MB/s \n",
            "\u001b[?25h  Building wheel for uuid (setup.py) ... \u001b[?25l\u001b[?25hdone\n"
          ],
          "name": "stdout"
        }
      ]
    },
    {
      "cell_type": "markdown",
      "metadata": {
        "_cell_guid": "b1076dfc-b9ad-4769-8c92-a6c4dae69d19",
        "_uuid": "8f2839f25d086af736a60e9eeb907d3b93b6e0e5",
        "id": "4Dn6n2Qd-Ghz"
      },
      "source": [
        "# Insurance cost prediction using linear regression\n",
        "\n",
        "Make a submisson here: https://jovian.ai/learn/deep-learning-with-pytorch-zero-to-gans/assignment/assignment-2-train-your-first-model\n",
        "\n",
        "In this assignment we're going to use information like a person's age, sex, BMI, no. of children and smoking habit to predict the price of yearly medical bills. This kind of model is useful for insurance companies to determine the yearly insurance premium for a person. The dataset for this problem is taken from [Kaggle](https://www.kaggle.com/mirichoi0218/insurance).\n",
        "\n",
        "\n",
        "We will create a model with the following steps:\n",
        "1. Download and explore the dataset\n",
        "2. Prepare the dataset for training\n",
        "3. Create a linear regression model\n",
        "4. Train the model to fit the data\n",
        "5. Make predictions using the trained model\n",
        "\n",
        "\n",
        "This assignment builds upon the concepts from the first 2 lessons. It will help to review these Jupyter notebooks:\n",
        "- PyTorch basics: https://jovian.ai/aakashns/01-pytorch-basics\n",
        "- Linear Regression: https://jovian.ai/aakashns/02-linear-regression\n",
        "- Logistic Regression: https://jovian.ai/aakashns/03-logistic-regression\n",
        "- Linear regression (minimal): https://jovian.ai/aakashns/housing-linear-minimal\n",
        "- Logistic regression (minimal): https://jovian.ai/aakashns/mnist-logistic-minimal\n",
        "\n",
        "As you go through this notebook, you will find a **???** in certain places. Your job is to replace the **???** with appropriate code or values, to ensure that the notebook runs properly end-to-end . In some cases, you'll be required to choose some hyperparameters (learning rate, batch size etc.). Try to experiment with the hypeparameters to get the lowest loss.\n"
      ]
    },
    {
      "cell_type": "code",
      "metadata": {
        "id": "gwTCtPwO-Gh4"
      },
      "source": [
        "# Uncomment and run the appropriate command for your operating system, if required\n",
        "\n",
        "# Linux / Binder\n",
        "# !pip install numpy matplotlib pandas torch==1.7.0+cpu torchvision==0.8.1+cpu torchaudio==0.7.0 -f https://download.pytorch.org/whl/torch_stable.html\n",
        "\n",
        "# Windows\n",
        "# !pip install numpy matplotlib pandas torch==1.7.0+cpu torchvision==0.8.1+cpu torchaudio==0.7.0 -f https://download.pytorch.org/whl/torch_stable.html\n",
        "\n",
        "# MacOS\n",
        "# !pip install numpy matplotlib pandas torch torchvision torchaudio"
      ],
      "execution_count": null,
      "outputs": []
    },
    {
      "cell_type": "code",
      "metadata": {
        "id": "Xzi0VCXP-Gh5"
      },
      "source": [
        "import torch\n",
        "import jovian\n",
        "import torchvision\n",
        "import torch.nn as nn\n",
        "import pandas as pd\n",
        "import matplotlib.pyplot as plt\n",
        "import torch.nn.functional as F\n",
        "from torchvision.datasets.utils import download_url\n",
        "from torch.utils.data import DataLoader, TensorDataset, random_split"
      ],
      "execution_count": 2,
      "outputs": []
    },
    {
      "cell_type": "code",
      "metadata": {
        "id": "_4Ug8mHH-Gh6"
      },
      "source": [
        "project_name='02-insurance-linear-regression' # will be used by jovian.commit"
      ],
      "execution_count": 3,
      "outputs": []
    },
    {
      "cell_type": "markdown",
      "metadata": {
        "id": "4cS6tunl-Gh7"
      },
      "source": [
        "## Step 1: Download and explore the data\n",
        "\n",
        "Let us begin by downloading the data. We'll use the `download_url` function from PyTorch to get the data as a CSV (comma-separated values) file. "
      ]
    },
    {
      "cell_type": "code",
      "metadata": {
        "_cell_guid": "79c7e3d0-c299-4dcb-8224-4455121ee9b0",
        "_uuid": "d629ff2d2480ee46fbb7e2d37f6b5fab8052498a",
        "id": "Gr_OwVW--Gh8",
        "colab": {
          "base_uri": "https://localhost:8080/",
          "height": 66,
          "referenced_widgets": [
            "4c8cc8694c254ba89e530abefd83d8be",
            "153cfbf2fd1442d289983d9239334344",
            "d3660b1c806f41799d09c20fc885402f",
            "523edb8601ba4c158c43140db7851e3f",
            "58bf63b6b561447c9722cdd7bb394583",
            "d8096893a2774b5aa8baf12560e1947d",
            "e87d4125b6b245229b7227e0bb04e446",
            "ae0c935a20d74b008f0e65dd7a384a2c"
          ]
        },
        "outputId": "eafe55a1-fcb1-4083-c3a0-4c3197ce4f2a"
      },
      "source": [
        "DATASET_URL = \"https://hub.jovian.ml/wp-content/uploads/2020/05/insurance.csv\"\n",
        "DATA_FILENAME = \"insurance.csv\"\n",
        "download_url(DATASET_URL, '.')"
      ],
      "execution_count": 4,
      "outputs": [
        {
          "output_type": "stream",
          "text": [
            "Downloading https://hub.jovian.ml/wp-content/uploads/2020/05/insurance.csv to ./insurance.csv\n"
          ],
          "name": "stdout"
        },
        {
          "output_type": "display_data",
          "data": {
            "application/vnd.jupyter.widget-view+json": {
              "model_id": "4c8cc8694c254ba89e530abefd83d8be",
              "version_minor": 0,
              "version_major": 2
            },
            "text/plain": [
              "HBox(children=(FloatProgress(value=1.0, bar_style='info', max=1.0), HTML(value='')))"
            ]
          },
          "metadata": {
            "tags": []
          }
        }
      ]
    },
    {
      "cell_type": "markdown",
      "metadata": {
        "id": "9vz7oEtv-GiB"
      },
      "source": [
        "To load the dataset into memory, we'll use the `read_csv` function from the `pandas` library. The data will be loaded as a Pandas dataframe. See this short tutorial to learn more: https://data36.com/pandas-tutorial-1-basics-reading-data-files-dataframes-data-selection/"
      ]
    },
    {
      "cell_type": "code",
      "metadata": {
        "id": "DpHMmJG6-GiF",
        "colab": {
          "base_uri": "https://localhost:8080/",
          "height": 204
        },
        "outputId": "6ebbb651-bf68-4bc8-a60e-81349649d324"
      },
      "source": [
        "dataframe_raw = pd.read_csv(DATA_FILENAME)\n",
        "dataframe_raw.head()"
      ],
      "execution_count": 5,
      "outputs": [
        {
          "output_type": "execute_result",
          "data": {
            "text/html": [
              "<div>\n",
              "<style scoped>\n",
              "    .dataframe tbody tr th:only-of-type {\n",
              "        vertical-align: middle;\n",
              "    }\n",
              "\n",
              "    .dataframe tbody tr th {\n",
              "        vertical-align: top;\n",
              "    }\n",
              "\n",
              "    .dataframe thead th {\n",
              "        text-align: right;\n",
              "    }\n",
              "</style>\n",
              "<table border=\"1\" class=\"dataframe\">\n",
              "  <thead>\n",
              "    <tr style=\"text-align: right;\">\n",
              "      <th></th>\n",
              "      <th>age</th>\n",
              "      <th>sex</th>\n",
              "      <th>bmi</th>\n",
              "      <th>children</th>\n",
              "      <th>smoker</th>\n",
              "      <th>region</th>\n",
              "      <th>charges</th>\n",
              "    </tr>\n",
              "  </thead>\n",
              "  <tbody>\n",
              "    <tr>\n",
              "      <th>0</th>\n",
              "      <td>19</td>\n",
              "      <td>female</td>\n",
              "      <td>27.900</td>\n",
              "      <td>0</td>\n",
              "      <td>yes</td>\n",
              "      <td>southwest</td>\n",
              "      <td>16884.92400</td>\n",
              "    </tr>\n",
              "    <tr>\n",
              "      <th>1</th>\n",
              "      <td>18</td>\n",
              "      <td>male</td>\n",
              "      <td>33.770</td>\n",
              "      <td>1</td>\n",
              "      <td>no</td>\n",
              "      <td>southeast</td>\n",
              "      <td>1725.55230</td>\n",
              "    </tr>\n",
              "    <tr>\n",
              "      <th>2</th>\n",
              "      <td>28</td>\n",
              "      <td>male</td>\n",
              "      <td>33.000</td>\n",
              "      <td>3</td>\n",
              "      <td>no</td>\n",
              "      <td>southeast</td>\n",
              "      <td>4449.46200</td>\n",
              "    </tr>\n",
              "    <tr>\n",
              "      <th>3</th>\n",
              "      <td>33</td>\n",
              "      <td>male</td>\n",
              "      <td>22.705</td>\n",
              "      <td>0</td>\n",
              "      <td>no</td>\n",
              "      <td>northwest</td>\n",
              "      <td>21984.47061</td>\n",
              "    </tr>\n",
              "    <tr>\n",
              "      <th>4</th>\n",
              "      <td>32</td>\n",
              "      <td>male</td>\n",
              "      <td>28.880</td>\n",
              "      <td>0</td>\n",
              "      <td>no</td>\n",
              "      <td>northwest</td>\n",
              "      <td>3866.85520</td>\n",
              "    </tr>\n",
              "  </tbody>\n",
              "</table>\n",
              "</div>"
            ],
            "text/plain": [
              "   age     sex     bmi  children smoker     region      charges\n",
              "0   19  female  27.900         0    yes  southwest  16884.92400\n",
              "1   18    male  33.770         1     no  southeast   1725.55230\n",
              "2   28    male  33.000         3     no  southeast   4449.46200\n",
              "3   33    male  22.705         0     no  northwest  21984.47061\n",
              "4   32    male  28.880         0     no  northwest   3866.85520"
            ]
          },
          "metadata": {
            "tags": []
          },
          "execution_count": 5
        }
      ]
    },
    {
      "cell_type": "markdown",
      "metadata": {
        "id": "zUn7piaw-GiH"
      },
      "source": [
        "We're going to do a slight customization of the data, so that you every participant receives a slightly different version of the dataset. Fill in your name below as a string (enter at least 5 characters)"
      ]
    },
    {
      "cell_type": "code",
      "metadata": {
        "id": "yu6Gobcu-GiI"
      },
      "source": [
        "your_name = 'chiyuan' # at least 5 characters"
      ],
      "execution_count": 6,
      "outputs": []
    },
    {
      "cell_type": "markdown",
      "metadata": {
        "id": "zeOsf8Sn-GiJ"
      },
      "source": [
        "The `customize_dataset` function will customize the dataset slightly using your name as a source of random numbers."
      ]
    },
    {
      "cell_type": "code",
      "metadata": {
        "id": "iqw-uT6S-GiJ"
      },
      "source": [
        "def customize_dataset(dataframe_raw, rand_str):\n",
        "    dataframe = dataframe_raw.copy(deep=True)\n",
        "    # drop some rows\n",
        "    dataframe = dataframe.sample(int(0.95*len(dataframe)), random_state=int(ord(rand_str[0])))\n",
        "    # scale input\n",
        "    dataframe.bmi = dataframe.bmi * ord(rand_str[1])/100.\n",
        "    # scale target\n",
        "    dataframe.charges = dataframe.charges * ord(rand_str[2])/100.\n",
        "    # drop column\n",
        "    if ord(rand_str[3]) % 2 == 1:\n",
        "        dataframe = dataframe.drop(['region'], axis=1)\n",
        "    return dataframe"
      ],
      "execution_count": 7,
      "outputs": []
    },
    {
      "cell_type": "code",
      "metadata": {
        "id": "rx2k_Rqs-GiK",
        "colab": {
          "base_uri": "https://localhost:8080/",
          "height": 204
        },
        "outputId": "514e0b0d-5492-42da-bee2-bd3d32b29d02"
      },
      "source": [
        "dataframe = customize_dataset(dataframe_raw, your_name)\n",
        "dataframe.head()"
      ],
      "execution_count": 8,
      "outputs": [
        {
          "output_type": "execute_result",
          "data": {
            "text/html": [
              "<div>\n",
              "<style scoped>\n",
              "    .dataframe tbody tr th:only-of-type {\n",
              "        vertical-align: middle;\n",
              "    }\n",
              "\n",
              "    .dataframe tbody tr th {\n",
              "        vertical-align: top;\n",
              "    }\n",
              "\n",
              "    .dataframe thead th {\n",
              "        text-align: right;\n",
              "    }\n",
              "</style>\n",
              "<table border=\"1\" class=\"dataframe\">\n",
              "  <thead>\n",
              "    <tr style=\"text-align: right;\">\n",
              "      <th></th>\n",
              "      <th>age</th>\n",
              "      <th>sex</th>\n",
              "      <th>bmi</th>\n",
              "      <th>children</th>\n",
              "      <th>smoker</th>\n",
              "      <th>charges</th>\n",
              "    </tr>\n",
              "  </thead>\n",
              "  <tbody>\n",
              "    <tr>\n",
              "      <th>156</th>\n",
              "      <td>48</td>\n",
              "      <td>male</td>\n",
              "      <td>25.3968</td>\n",
              "      <td>0</td>\n",
              "      <td>yes</td>\n",
              "      <td>22284.859590</td>\n",
              "    </tr>\n",
              "    <tr>\n",
              "      <th>123</th>\n",
              "      <td>44</td>\n",
              "      <td>male</td>\n",
              "      <td>32.6040</td>\n",
              "      <td>1</td>\n",
              "      <td>yes</td>\n",
              "      <td>41534.319225</td>\n",
              "    </tr>\n",
              "    <tr>\n",
              "      <th>1269</th>\n",
              "      <td>45</td>\n",
              "      <td>male</td>\n",
              "      <td>28.6000</td>\n",
              "      <td>3</td>\n",
              "      <td>no</td>\n",
              "      <td>9046.065000</td>\n",
              "    </tr>\n",
              "    <tr>\n",
              "      <th>512</th>\n",
              "      <td>51</td>\n",
              "      <td>male</td>\n",
              "      <td>23.3168</td>\n",
              "      <td>0</td>\n",
              "      <td>no</td>\n",
              "      <td>9829.393140</td>\n",
              "    </tr>\n",
              "    <tr>\n",
              "      <th>377</th>\n",
              "      <td>24</td>\n",
              "      <td>male</td>\n",
              "      <td>41.7560</td>\n",
              "      <td>0</td>\n",
              "      <td>yes</td>\n",
              "      <td>40032.558825</td>\n",
              "    </tr>\n",
              "  </tbody>\n",
              "</table>\n",
              "</div>"
            ],
            "text/plain": [
              "      age   sex      bmi  children smoker       charges\n",
              "156    48  male  25.3968         0    yes  22284.859590\n",
              "123    44  male  32.6040         1    yes  41534.319225\n",
              "1269   45  male  28.6000         3     no   9046.065000\n",
              "512    51  male  23.3168         0     no   9829.393140\n",
              "377    24  male  41.7560         0    yes  40032.558825"
            ]
          },
          "metadata": {
            "tags": []
          },
          "execution_count": 8
        }
      ]
    },
    {
      "cell_type": "markdown",
      "metadata": {
        "id": "nzeNUGgm-GiL"
      },
      "source": [
        "Let us answer some basic questions about the dataset. \n",
        "\n",
        "\n",
        "**Q: How many rows does the dataset have?**"
      ]
    },
    {
      "cell_type": "code",
      "metadata": {
        "id": "Plp-EVVD-GiL",
        "colab": {
          "base_uri": "https://localhost:8080/"
        },
        "outputId": "f46e37fb-82ac-4183-93f6-69cabcb0606a"
      },
      "source": [
        "num_rows = dataframe.shape[0]\n",
        "print(num_rows)"
      ],
      "execution_count": 10,
      "outputs": [
        {
          "output_type": "stream",
          "text": [
            "1271\n"
          ],
          "name": "stdout"
        }
      ]
    },
    {
      "cell_type": "markdown",
      "metadata": {
        "id": "JTm8Gtnf-GiM"
      },
      "source": [
        "**Q: How many columns doe the dataset have**"
      ]
    },
    {
      "cell_type": "code",
      "metadata": {
        "id": "tgDmLr3q-GiN",
        "colab": {
          "base_uri": "https://localhost:8080/"
        },
        "outputId": "5fb6f83a-a728-4ce5-e183-66f01e55f618"
      },
      "source": [
        "num_cols = dataframe.shape[1]\n",
        "print(num_cols)"
      ],
      "execution_count": 11,
      "outputs": [
        {
          "output_type": "stream",
          "text": [
            "6\n"
          ],
          "name": "stdout"
        }
      ]
    },
    {
      "cell_type": "markdown",
      "metadata": {
        "id": "_9breNg3-GiN"
      },
      "source": [
        "**Q: What are the column titles of the input variables?**"
      ]
    },
    {
      "cell_type": "code",
      "metadata": {
        "id": "WRwBZLQd-GiP",
        "colab": {
          "base_uri": "https://localhost:8080/"
        },
        "outputId": "4c95345f-4dfd-49d3-8884-685c88f63f6a"
      },
      "source": [
        "input_cols = dataframe.columns.to_list()\r\n",
        "input_cols"
      ],
      "execution_count": 18,
      "outputs": [
        {
          "output_type": "execute_result",
          "data": {
            "text/plain": [
              "['age', 'sex', 'bmi', 'children', 'smoker', 'charges']"
            ]
          },
          "metadata": {
            "tags": []
          },
          "execution_count": 18
        }
      ]
    },
    {
      "cell_type": "markdown",
      "metadata": {
        "id": "kFUhL3On-GiQ"
      },
      "source": [
        "**Q: Which of the input columns are non-numeric or categorial variables ?**\n",
        "\n",
        "Hint: `sex` is one of them. List the columns that are not numbers."
      ]
    },
    {
      "cell_type": "code",
      "metadata": {
        "id": "tObpe4jz-GiR",
        "colab": {
          "base_uri": "https://localhost:8080/"
        },
        "outputId": "9baedeb5-805b-41d8-e0ae-2e667760937c"
      },
      "source": [
        "categorical_cols = dataframe.columns[dataframe.dtypes ==object].to_list()\r\n",
        "categorical_cols"
      ],
      "execution_count": 27,
      "outputs": [
        {
          "output_type": "execute_result",
          "data": {
            "text/plain": [
              "['sex', 'smoker']"
            ]
          },
          "metadata": {
            "tags": []
          },
          "execution_count": 27
        }
      ]
    },
    {
      "cell_type": "markdown",
      "metadata": {
        "id": "ZgKK1PG3-GiR"
      },
      "source": [
        "**Q: What are the column titles of output/target variable(s)?**"
      ]
    },
    {
      "cell_type": "code",
      "metadata": {
        "id": "DpgSrHZT-GiS"
      },
      "source": [
        "output_cols = ['charges']"
      ],
      "execution_count": 46,
      "outputs": []
    },
    {
      "cell_type": "markdown",
      "metadata": {
        "id": "awPIHhb5-GiS"
      },
      "source": [
        "**Q: (Optional) What is the minimum, maximum and average value of the `charges` column? Can you show the distribution of values in a graph?**\n",
        "Use this data visualization cheatsheet for referece: https://jovian.ml/aakashns/dataviz-cheatsheet"
      ]
    },
    {
      "cell_type": "code",
      "metadata": {
        "id": "vTb1dIyT-GiT",
        "colab": {
          "base_uri": "https://localhost:8080/"
        },
        "outputId": "bbe7aba0-0129-4d06-dcad-0058f576a3fa"
      },
      "source": [
        "# Write your answer here\r\n",
        "print(dataframe['charges'].min())\r\n",
        "print(dataframe['charges'].max())\r\n",
        "print(dataframe['charges'].mean())\r\n"
      ],
      "execution_count": 38,
      "outputs": [
        {
          "output_type": "stream",
          "text": [
            "1177.967595\n",
            "66958.9494105\n",
            "13959.282470175427\n"
          ],
          "name": "stdout"
        }
      ]
    },
    {
      "cell_type": "code",
      "metadata": {
        "colab": {
          "base_uri": "https://localhost:8080/",
          "height": 344
        },
        "id": "Uakel5h8A8Lk",
        "outputId": "1df873e6-1ad2-4e39-bc1f-1fc76e857089"
      },
      "source": [
        "import seaborn as sns\r\n",
        "import matplotlib.pyplot as plt\r\n",
        "sns.distplot(dataframe['charges'])\r\n",
        "plt.show()"
      ],
      "execution_count": 40,
      "outputs": [
        {
          "output_type": "stream",
          "text": [
            "/usr/local/lib/python3.6/dist-packages/seaborn/distributions.py:2557: FutureWarning: `distplot` is a deprecated function and will be removed in a future version. Please adapt your code to use either `displot` (a figure-level function with similar flexibility) or `histplot` (an axes-level function for histograms).\n",
            "  warnings.warn(msg, FutureWarning)\n"
          ],
          "name": "stderr"
        },
        {
          "output_type": "display_data",
          "data": {
            "image/png": "[encoded data removed]",
            "text/plain": [
              "<Figure size 432x288 with 1 Axes>"
            ]
          },
          "metadata": {
            "tags": [],
            "needs_background": "light"
          }
        }
      ]
    },
    {
      "cell_type": "markdown",
      "metadata": {
        "id": "P5qbL5qG-GiT"
      },
      "source": [
        "Remember to commit your notebook to Jovian after every step, so that you don't lose your work."
      ]
    },
    {
      "cell_type": "code",
      "metadata": {
        "id": "Bj2hRbXb-GiT"
      },
      "source": [
        "!pip install jovian --upgrade -q"
      ],
      "execution_count": 41,
      "outputs": []
    },
    {
      "cell_type": "code",
      "metadata": {
        "id": "NpN4H4Oa-GiU"
      },
      "source": [
        "import jovian"
      ],
      "execution_count": 42,
      "outputs": []
    },
    {
      "cell_type": "code",
      "metadata": {
        "id": "3jz6r1Qs-GiU",
        "colab": {
          "base_uri": "https://localhost:8080/",
          "height": 137
        },
        "outputId": "53b3e001-43b0-46e8-cafd-6caf64c4de4f"
      },
      "source": [
        "jovian.commit()"
      ],
      "execution_count": 43,
      "outputs": [
        {
          "output_type": "stream",
          "text": [
            "[jovian] Detected Colab notebook...\u001b[0m\n",
            "[jovian] Please enter your API key ( from https://jovian.ai/ ):\u001b[0m\n",
            "API KEY: ··········\n",
            "[jovian] Uploading colab notebook to Jovian...\u001b[0m\n",
            "[jovian] Capturing environment..\u001b[0m\n",
            "[jovian] Committed successfully! https://jovian.ai/cyuancheng/02-insurance-linear-regression\u001b[0m\n"
          ],
          "name": "stdout"
        },
        {
          "output_type": "execute_result",
          "data": {
            "application/vnd.google.colaboratory.intrinsic+json": {
              "type": "string"
            },
            "text/plain": [
              "'https://jovian.ai/cyuancheng/02-insurance-linear-regression'"
            ]
          },
          "metadata": {
            "tags": []
          },
          "execution_count": 43
        }
      ]
    },
    {
      "cell_type": "markdown",
      "metadata": {
        "id": "kAG6lHca-GiV"
      },
      "source": [
        "## Step 2: Prepare the dataset for training\n",
        "\n",
        "We need to convert the data from the Pandas dataframe into a PyTorch tensors for training. To do this, the first step is to convert it numpy arrays. If you've filled out `input_cols`, `categorial_cols` and `output_cols` correctly, this following function will perform the conversion to numpy arrays."
      ]
    },
    {
      "cell_type": "code",
      "metadata": {
        "id": "6jdTUH8K-GiW"
      },
      "source": [
        "def dataframe_to_arrays(dataframe):\n",
        "    # Make a copy of the original dataframe\n",
        "    dataframe1 = dataframe.copy(deep=True)\n",
        "    # Convert non-numeric categorical columns to numbers\n",
        "    for col in categorical_cols:\n",
        "        dataframe1[col] = dataframe1[col].astype('category').cat.codes\n",
        "    # Extract input & outupts as numpy arrays\n",
        "    inputs_array = dataframe1[input_cols].to_numpy()\n",
        "    targets_array = dataframe1[output_cols].to_numpy()\n",
        "    return inputs_array, targets_array"
      ],
      "execution_count": 44,
      "outputs": []
    },
    {
      "cell_type": "markdown",
      "metadata": {
        "id": "UKAVQggo-GiZ"
      },
      "source": [
        "Read through the [Pandas documentation](https://pandas.pydata.org/pandas-docs/stable/user_guide/categorical.html) to understand how we're converting categorical variables into numbers."
      ]
    },
    {
      "cell_type": "code",
      "metadata": {
        "id": "jPnp9tjB-Gia",
        "colab": {
          "base_uri": "https://localhost:8080/"
        },
        "outputId": "27b2c208-9a39-4882-b145-2eed9429e638"
      },
      "source": [
        "inputs_array, targets_array = dataframe_to_arrays(dataframe)\n",
        "inputs_array, targets_array"
      ],
      "execution_count": 47,
      "outputs": [
        {
          "output_type": "execute_result",
          "data": {
            "text/plain": [
              "(array([[4.80000000e+01, 1.00000000e+00, 2.53968000e+01, 0.00000000e+00,\n",
              "         1.00000000e+00, 2.22848596e+04],\n",
              "        [4.40000000e+01, 1.00000000e+00, 3.26040000e+01, 1.00000000e+00,\n",
              "         1.00000000e+00, 4.15343192e+04],\n",
              "        [4.50000000e+01, 1.00000000e+00, 2.86000000e+01, 3.00000000e+00,\n",
              "         0.00000000e+00, 9.04606500e+03],\n",
              "        ...,\n",
              "        [3.10000000e+01, 1.00000000e+00, 3.77520000e+01, 2.00000000e+00,\n",
              "         1.00000000e+00, 4.06465500e+04],\n",
              "        [1.80000000e+01, 0.00000000e+00, 3.98112000e+01, 0.00000000e+00,\n",
              "         0.00000000e+00, 1.71341226e+03],\n",
              "        [3.70000000e+01, 1.00000000e+00, 3.54640000e+01, 4.00000000e+00,\n",
              "         1.00000000e+00, 4.21913583e+04]]), array([[22284.85959 ],\n",
              "        [41534.319225],\n",
              "        [ 9046.065   ],\n",
              "        ...,\n",
              "        [40646.55    ],\n",
              "        [ 1713.41226 ],\n",
              "        [42191.3583  ]]))"
            ]
          },
          "metadata": {
            "tags": []
          },
          "execution_count": 47
        }
      ]
    },
    {
      "cell_type": "markdown",
      "metadata": {
        "id": "fElWSigL-Gia"
      },
      "source": [
        "**Q: Convert the numpy arrays `inputs_array` and `targets_array` into PyTorch tensors. Make sure that the data type is `torch.float32`.**"
      ]
    },
    {
      "cell_type": "code",
      "metadata": {
        "id": "z30BUoqa-Gib"
      },
      "source": [
        "inputs = torch.from_numpy(inputs_array)\n",
        "targets = torch.from_numpy(targets_array)"
      ],
      "execution_count": 49,
      "outputs": []
    },
    {
      "cell_type": "code",
      "metadata": {
        "id": "mBz5rdCi-Gib",
        "colab": {
          "base_uri": "https://localhost:8080/"
        },
        "outputId": "019c6866-c23c-4d75-8a00-164dd48405e7"
      },
      "source": [
        "inputs.dtype, targets.dtype"
      ],
      "execution_count": 50,
      "outputs": [
        {
          "output_type": "execute_result",
          "data": {
            "text/plain": [
              "(torch.float64, torch.float64)"
            ]
          },
          "metadata": {
            "tags": []
          },
          "execution_count": 50
        }
      ]
    },
    {
      "cell_type": "markdown",
      "metadata": {
        "id": "2JE70_Nl-Gic"
      },
      "source": [
        "Next, we need to create PyTorch datasets & data loaders for training & validation. We'll start by creating a `TensorDataset`."
      ]
    },
    {
      "cell_type": "code",
      "metadata": {
        "id": "upLam5v3-Gic"
      },
      "source": [
        "dataset = TensorDataset(inputs, targets)"
      ],
      "execution_count": 51,
      "outputs": []
    },
    {
      "cell_type": "markdown",
      "metadata": {
        "id": "5DssADgs-Gic"
      },
      "source": [
        "**Q: Pick a number between `0.1` and `0.2` to determine the fraction of data that will be used for creating the validation set. Then use `random_split` to create training & validation datasets.**"
      ]
    },
    {
      "cell_type": "code",
      "metadata": {
        "id": "B93fdXGo-Gid"
      },
      "source": [
        "val_percent = 0.2 # between 0.1 and 0.2\n",
        "val_size = int(num_rows * val_percent)\n",
        "train_size = num_rows - val_size\n",
        "\n",
        "\n",
        "train_ds, val_ds =  random_split(dataset, [train_size, val_size]) # Use the random_split function to split dataset into 2 parts of the desired length"
      ],
      "execution_count": 52,
      "outputs": []
    },
    {
      "cell_type": "markdown",
      "metadata": {
        "id": "5FPoMh-C-Gie"
      },
      "source": [
        "Finally, we can create data loaders for training & validation.\n",
        "\n",
        "**Q: Pick a batch size for the data loader.**"
      ]
    },
    {
      "cell_type": "code",
      "metadata": {
        "id": "Yw_iydyu-Gif"
      },
      "source": [
        "batch_size = 128"
      ],
      "execution_count": 53,
      "outputs": []
    },
    {
      "cell_type": "code",
      "metadata": {
        "id": "O6TPr6C2-Gig"
      },
      "source": [
        "train_loader = DataLoader(train_ds, batch_size, shuffle=True)\n",
        "val_loader = DataLoader(val_ds, batch_size)"
      ],
      "execution_count": 54,
      "outputs": []
    },
    {
      "cell_type": "markdown",
      "metadata": {
        "id": "rJfC5fMp-Gig"
      },
      "source": [
        "Let's look at a batch of data to verify everything is working fine so far."
      ]
    },
    {
      "cell_type": "code",
      "metadata": {
        "id": "Ku4lpq-H-Gih",
        "colab": {
          "base_uri": "https://localhost:8080/"
        },
        "outputId": "7c055c34-2179-4518-f1c8-e82b7ab9470d"
      },
      "source": [
        "for xb, yb in train_loader:\n",
        "    print(\"inputs:\", xb)\n",
        "    print(\"targets:\", yb)\n",
        "    break"
      ],
      "execution_count": 55,
      "outputs": [
        {
          "output_type": "stream",
          "text": [
            "inputs: tensor([[5.5000e+01, 1.0000e+00, 2.8751e+01, 0.0000e+00, 0.0000e+00, 1.1124e+04],\n",
            "        [6.0000e+01, 0.0000e+00, 3.1720e+01, 0.0000e+00, 0.0000e+00, 1.3270e+04],\n",
            "        [6.1000e+01, 0.0000e+00, 3.7840e+01, 1.0000e+00, 1.0000e+00, 5.0943e+04],\n",
            "        [5.9000e+01, 1.0000e+00, 3.1023e+01, 3.0000e+00, 1.0000e+00, 3.1694e+04],\n",
            "        [4.8000e+01, 1.0000e+00, 3.2011e+01, 3.0000e+00, 0.0000e+00, 1.0648e+04],\n",
            "        [2.0000e+01, 1.0000e+00, 3.4320e+01, 1.0000e+00, 0.0000e+00, 2.0791e+03],\n",
            "        [4.5000e+01, 0.0000e+00, 2.8943e+01, 2.0000e+00, 0.0000e+00, 8.9415e+03],\n",
            "        [2.1000e+01, 0.0000e+00, 3.5984e+01, 0.0000e+00, 0.0000e+00, 2.1212e+03],\n",
            "        [2.7000e+01, 1.0000e+00, 3.1512e+01, 3.0000e+00, 0.0000e+00, 4.4738e+03],\n",
            "        [5.0000e+01, 1.0000e+00, 3.2209e+01, 3.0000e+00, 0.0000e+00, 1.1131e+04],\n",
            "        [4.5000e+01, 1.0000e+00, 3.7939e+01, 2.0000e+00, 1.0000e+00, 4.4899e+04],\n",
            "        [3.1000e+01, 1.0000e+00, 3.2308e+01, 3.0000e+00, 0.0000e+00, 5.6963e+03],\n",
            "        [5.2000e+01, 1.0000e+00, 3.5464e+01, 0.0000e+00, 0.0000e+00, 9.5980e+03],\n",
            "        [5.3000e+01, 1.0000e+00, 3.2406e+01, 1.0000e+00, 0.0000e+00, 1.0985e+04],\n",
            "        [4.8000e+01, 0.0000e+00, 3.8038e+01, 0.0000e+00, 0.0000e+00, 9.1048e+03],\n",
            "        [3.1000e+01, 1.0000e+00, 2.6936e+01, 3.0000e+00, 1.0000e+00, 2.0160e+04],\n",
            "        [2.4000e+01, 1.0000e+00, 3.0472e+01, 0.0000e+00, 0.0000e+00, 2.0767e+03],\n",
            "        [4.7000e+01, 1.0000e+00, 3.7648e+01, 1.0000e+00, 0.0000e+00, 8.4716e+03],\n",
            "        [6.2000e+01, 1.0000e+00, 3.1221e+01, 0.0000e+00, 0.0000e+00, 1.4020e+04],\n",
            "        [4.2000e+01, 0.0000e+00, 2.4305e+01, 0.0000e+00, 1.0000e+00, 2.0963e+04],\n",
            "        [5.6000e+01, 0.0000e+00, 2.7664e+01, 1.0000e+00, 0.0000e+00, 1.2647e+04],\n",
            "        [1.9000e+01, 0.0000e+00, 2.3416e+01, 0.0000e+00, 0.0000e+00, 2.2232e+03],\n",
            "        [3.3000e+01, 1.0000e+00, 3.1460e+01, 0.0000e+00, 0.0000e+00, 3.8896e+03],\n",
            "        [2.7000e+01, 0.0000e+00, 2.4138e+01, 1.0000e+00, 0.0000e+00, 3.7400e+03],\n",
            "        [5.6000e+01, 1.0000e+00, 3.5006e+01, 4.0000e+00, 0.0000e+00, 1.3597e+04],\n",
            "        [5.1000e+01, 0.0000e+00, 3.9239e+01, 1.0000e+00, 0.0000e+00, 1.0371e+04],\n",
            "        [3.8000e+01, 1.0000e+00, 1.7488e+01, 2.0000e+00, 0.0000e+00, 6.9726e+03],\n",
            "        [5.0000e+01, 1.0000e+00, 3.3493e+01, 0.0000e+00, 0.0000e+00, 9.2770e+03],\n",
            "        [6.1000e+01, 1.0000e+00, 4.5136e+01, 0.0000e+00, 0.0000e+00, 1.3203e+04],\n",
            "        [4.3000e+01, 0.0000e+00, 3.1096e+01, 1.0000e+00, 0.0000e+00, 7.7046e+03],\n",
            "        [4.6000e+01, 1.0000e+00, 2.3192e+01, 0.0000e+00, 0.0000e+00, 7.5045e+03],\n",
            "        [4.7000e+01, 0.0000e+00, 2.4544e+01, 1.0000e+00, 0.0000e+00, 8.9667e+03],\n",
            "        [2.3000e+01, 0.0000e+00, 4.0841e+01, 2.0000e+00, 0.0000e+00, 3.6756e+03],\n",
            "        [3.8000e+01, 0.0000e+00, 2.8704e+01, 0.0000e+00, 0.0000e+00, 5.6527e+03],\n",
            "        [5.3000e+01, 1.0000e+00, 3.8064e+01, 3.0000e+00, 0.0000e+00, 1.1828e+04],\n",
            "        [5.6000e+01, 1.0000e+00, 3.3394e+01, 1.0000e+00, 0.0000e+00, 1.2351e+04],\n",
            "        [4.1000e+01, 1.0000e+00, 3.2011e+01, 3.0000e+00, 1.0000e+00, 4.1577e+04],\n",
            "        [2.3000e+01, 0.0000e+00, 2.9245e+01, 0.0000e+00, 0.0000e+00, 2.8246e+03],\n",
            "        [5.3000e+01, 0.0000e+00, 3.8927e+01, 1.0000e+00, 0.0000e+00, 1.1508e+04],\n",
            "        [3.6000e+01, 1.0000e+00, 3.4736e+01, 2.0000e+00, 1.0000e+00, 4.0336e+04],\n",
            "        [6.4000e+01, 1.0000e+00, 2.6624e+01, 2.0000e+00, 0.0000e+00, 1.5738e+04],\n",
            "        [4.3000e+01, 0.0000e+00, 3.1912e+01, 2.0000e+00, 0.0000e+00, 8.7264e+03],\n",
            "        [5.3000e+01, 1.0000e+00, 3.1715e+01, 0.0000e+00, 0.0000e+00, 1.0576e+04],\n",
            "        [5.1000e+01, 0.0000e+00, 3.5464e+01, 0.0000e+00, 0.0000e+00, 9.7477e+03],\n",
            "        [2.0000e+01, 1.0000e+00, 4.0976e+01, 2.0000e+00, 1.0000e+00, 4.0262e+04],\n",
            "        [3.3000e+01, 0.0000e+00, 3.6951e+01, 0.0000e+00, 1.0000e+00, 5.7892e+04],\n",
            "        [2.6000e+01, 1.0000e+00, 3.4216e+01, 2.0000e+00, 1.0000e+00, 3.7889e+04],\n",
            "        [5.9000e+01, 0.0000e+00, 2.8600e+01, 0.0000e+00, 0.0000e+00, 1.2846e+04],\n",
            "        [2.1000e+01, 1.0000e+00, 3.2344e+01, 0.0000e+00, 0.0000e+00, 1.6026e+03],\n",
            "        [1.9000e+01, 0.0000e+00, 3.1221e+01, 0.0000e+00, 1.0000e+00, 3.4973e+04],\n",
            "        [6.3000e+01, 1.0000e+00, 3.6494e+01, 0.0000e+00, 1.0000e+00, 4.9408e+04],\n",
            "        [3.1000e+01, 0.0000e+00, 2.4544e+01, 2.0000e+00, 0.0000e+00, 5.1782e+03],\n",
            "        [3.9000e+01, 1.0000e+00, 3.5464e+01, 2.0000e+00, 0.0000e+00, 2.4741e+04],\n",
            "        [6.2000e+01, 0.0000e+00, 3.3987e+01, 0.0000e+00, 0.0000e+00, 1.4537e+04],\n",
            "        [2.8000e+01, 1.0000e+00, 3.0430e+01, 2.0000e+00, 0.0000e+00, 4.6602e+03],\n",
            "        [2.8000e+01, 1.0000e+00, 3.8584e+01, 1.0000e+00, 0.0000e+00, 3.4410e+03],\n",
            "        [3.5000e+01, 0.0000e+00, 2.9146e+01, 0.0000e+00, 1.0000e+00, 2.1247e+04],\n",
            "        [5.4000e+01, 1.0000e+00, 3.4086e+01, 0.0000e+00, 0.0000e+00, 1.0957e+04],\n",
            "        [5.9000e+01, 0.0000e+00, 3.8236e+01, 1.0000e+00, 1.0000e+00, 5.0292e+04],\n",
            "        [5.8000e+01, 0.0000e+00, 2.3681e+01, 0.0000e+00, 0.0000e+00, 1.2425e+04],\n",
            "        [5.5000e+01, 1.0000e+00, 3.5235e+01, 3.0000e+00, 0.0000e+00, 1.2587e+04],\n",
            "        [4.6000e+01, 1.0000e+00, 2.7685e+01, 1.0000e+00, 0.0000e+00, 8.1292e+03],\n",
            "        [4.4000e+01, 1.0000e+00, 3.1408e+01, 2.0000e+00, 1.0000e+00, 4.0948e+04],\n",
            "        [5.5000e+01, 1.0000e+00, 3.9811e+01, 0.0000e+00, 0.0000e+00, 1.0738e+04],\n",
            "        [1.8000e+01, 0.0000e+00, 3.9811e+01, 0.0000e+00, 0.0000e+00, 1.7134e+03],\n",
            "        [5.5000e+01, 0.0000e+00, 3.1346e+01, 2.0000e+00, 0.0000e+00, 1.2476e+04],\n",
            "        [4.2000e+01, 0.0000e+00, 3.0160e+01, 1.0000e+00, 0.0000e+00, 7.4032e+03],\n",
            "        [4.4000e+01, 1.0000e+00, 2.6380e+01, 1.0000e+00, 0.0000e+00, 7.8939e+03],\n",
            "        [1.8000e+01, 1.0000e+00, 3.5807e+01, 0.0000e+00, 0.0000e+00, 1.1943e+03],\n",
            "        [3.3000e+01, 0.0000e+00, 1.9859e+01, 2.0000e+00, 1.0000e+00, 1.7615e+04],\n",
            "        [2.7000e+01, 1.0000e+00, 4.7736e+01, 2.0000e+00, 0.0000e+00, 3.8781e+03],\n",
            "        [6.0000e+01, 0.0000e+00, 1.9068e+01, 0.0000e+00, 0.0000e+00, 1.3864e+04],\n",
            "        [5.9000e+01, 1.0000e+00, 3.0888e+01, 2.0000e+00, 0.0000e+00, 1.3572e+04],\n",
            "        [5.7000e+01, 1.0000e+00, 2.9058e+01, 1.0000e+00, 0.0000e+00, 1.2132e+04],\n",
            "        [3.5000e+01, 1.0000e+00, 3.1720e+01, 1.0000e+00, 0.0000e+00, 4.9886e+03],\n",
            "        [3.9000e+01, 1.0000e+00, 2.7466e+01, 0.0000e+00, 1.0000e+00, 2.1157e+04],\n",
            "        [5.1000e+01, 1.0000e+00, 3.8480e+01, 0.0000e+00, 0.0000e+00, 9.2385e+03],\n",
            "        [5.9000e+01, 0.0000e+00, 2.7565e+01, 0.0000e+00, 0.0000e+00, 1.3456e+04],\n",
            "        [1.8000e+01, 0.0000e+00, 2.5054e+01, 1.0000e+00, 0.0000e+00, 2.3112e+03],\n",
            "        [2.6000e+01, 1.0000e+00, 3.3790e+01, 1.0000e+00, 0.0000e+00, 3.6651e+03],\n",
            "        [6.2000e+01, 0.0000e+00, 3.1117e+01, 0.0000e+00, 0.0000e+00, 1.4131e+04],\n",
            "        [1.9000e+01, 0.0000e+00, 3.3790e+01, 0.0000e+00, 1.0000e+00, 3.8744e+04],\n",
            "        [3.1000e+01, 1.0000e+00, 2.6972e+01, 1.0000e+00, 0.0000e+00, 4.4519e+03],\n",
            "        [4.2000e+01, 1.0000e+00, 2.7170e+01, 2.0000e+00, 0.0000e+00, 8.1161e+03],\n",
            "        [3.3000e+01, 1.0000e+00, 4.4158e+01, 1.0000e+00, 0.0000e+00, 1.1893e+04],\n",
            "        [5.9000e+01, 1.0000e+00, 4.2786e+01, 1.0000e+00, 1.0000e+00, 5.1419e+04],\n",
            "        [4.8000e+01, 0.0000e+00, 3.0035e+01, 1.0000e+00, 0.0000e+00, 9.7120e+03],\n",
            "        [3.6000e+01, 1.0000e+00, 3.2760e+01, 0.0000e+00, 0.0000e+00, 4.6223e+03],\n",
            "        [2.1000e+01, 1.0000e+00, 3.8334e+01, 0.0000e+00, 0.0000e+00, 2.0132e+03],\n",
            "        [3.2000e+01, 0.0000e+00, 2.5584e+01, 0.0000e+00, 1.0000e+00, 1.8371e+04],\n",
            "        [2.4000e+01, 0.0000e+00, 2.4138e+01, 0.0000e+00, 0.0000e+00, 2.6336e+04],\n",
            "        [2.4000e+01, 1.0000e+00, 3.4008e+01, 0.0000e+00, 1.0000e+00, 3.6196e+04],\n",
            "        [5.6000e+01, 1.0000e+00, 2.2984e+01, 0.0000e+00, 0.0000e+00, 1.1106e+04],\n",
            "        [3.6000e+01, 1.0000e+00, 3.6608e+01, 1.0000e+00, 1.0000e+00, 4.0645e+04],\n",
            "        [1.9000e+01, 1.0000e+00, 2.8356e+01, 2.0000e+00, 0.0000e+00, 2.3618e+04],\n",
            "        [1.9000e+01, 0.0000e+00, 1.8512e+01, 0.0000e+00, 0.0000e+00, 1.8142e+03],\n",
            "        [3.8000e+01, 1.0000e+00, 2.9401e+01, 1.0000e+00, 0.0000e+00, 5.7587e+03],\n",
            "        [2.2000e+01, 0.0000e+00, 3.2261e+01, 3.0000e+00, 1.0000e+00, 3.7375e+04],\n",
            "        [5.0000e+01, 0.0000e+00, 3.1320e+01, 1.0000e+00, 0.0000e+00, 1.0406e+04],\n",
            "        [4.2000e+01, 0.0000e+00, 3.9416e+01, 0.0000e+00, 0.0000e+00, 6.7977e+03],\n",
            "        [1.9000e+01, 0.0000e+00, 3.6556e+01, 0.0000e+00, 0.0000e+00, 2.2416e+03],\n",
            "        [3.1000e+01, 1.0000e+00, 3.1002e+01, 0.0000e+00, 1.0000e+00, 2.0318e+04],\n",
            "        [3.7000e+01, 1.0000e+00, 3.7638e+01, 0.0000e+00, 0.0000e+00, 2.0175e+04],\n",
            "        [5.3000e+01, 0.0000e+00, 3.4580e+01, 0.0000e+00, 0.0000e+00, 1.1093e+04],\n",
            "        [5.8000e+01, 1.0000e+00, 3.9520e+01, 0.0000e+00, 0.0000e+00, 1.1934e+04],\n",
            "        [3.2000e+01, 0.0000e+00, 4.5989e+01, 0.0000e+00, 0.0000e+00, 4.1939e+03],\n",
            "        [1.9000e+01, 0.0000e+00, 2.5490e+01, 1.0000e+00, 0.0000e+00, 2.8446e+03],\n",
            "        [2.6000e+01, 1.0000e+00, 3.0316e+01, 1.0000e+00, 0.0000e+00, 3.0481e+03],\n",
            "        [2.6000e+01, 0.0000e+00, 3.0826e+01, 4.0000e+00, 0.0000e+00, 2.5905e+04],\n",
            "        [2.8000e+01, 0.0000e+00, 2.7368e+01, 3.0000e+00, 0.0000e+00, 5.5778e+03],\n",
            "        [5.2000e+01, 0.0000e+00, 3.2011e+01, 1.0000e+00, 0.0000e+00, 1.1337e+04],\n",
            "        [3.5000e+01, 0.0000e+00, 3.2240e+01, 1.0000e+00, 0.0000e+00, 5.5028e+03],\n",
            "        [4.8000e+01, 0.0000e+00, 2.3712e+01, 0.0000e+00, 0.0000e+00, 8.6825e+03],\n",
            "        [3.0000e+01, 1.0000e+00, 4.5989e+01, 2.0000e+00, 0.0000e+00, 4.4795e+03],\n",
            "        [5.6000e+01, 1.0000e+00, 2.0748e+01, 0.0000e+00, 1.0000e+00, 2.3533e+04],\n",
            "        [5.1000e+01, 0.0000e+00, 3.8532e+01, 3.0000e+00, 1.0000e+00, 4.8568e+04],\n",
            "        [4.1000e+01, 1.0000e+00, 4.1870e+01, 0.0000e+00, 0.0000e+00, 5.9946e+03],\n",
            "        [5.0000e+01, 0.0000e+00, 3.5048e+01, 4.0000e+00, 0.0000e+00, 1.1864e+04],\n",
            "        [2.0000e+01, 0.0000e+00, 3.8480e+01, 5.0000e+00, 0.0000e+00, 5.0722e+03],\n",
            "        [2.7000e+01, 1.0000e+00, 3.3977e+01, 0.0000e+00, 0.0000e+00, 2.6219e+03],\n",
            "        [2.8000e+01, 1.0000e+00, 3.5173e+01, 0.0000e+00, 0.0000e+00, 2.0657e+04],\n",
            "        [3.7000e+01, 0.0000e+00, 3.2011e+01, 0.0000e+00, 1.0000e+00, 3.9134e+04],\n",
            "        [5.0000e+01, 0.0000e+00, 4.6535e+01, 0.0000e+00, 0.0000e+00, 1.0019e+04],\n",
            "        [3.2000e+01, 0.0000e+00, 3.0924e+01, 0.0000e+00, 0.0000e+00, 4.5749e+03],\n",
            "        [3.0000e+01, 0.0000e+00, 2.4601e+01, 3.0000e+00, 1.0000e+00, 1.9704e+04],\n",
            "        [6.1000e+01, 1.0000e+00, 3.3592e+01, 2.0000e+00, 0.0000e+00, 1.4826e+04],\n",
            "        [1.9000e+01, 1.0000e+00, 3.6296e+01, 0.0000e+00, 1.0000e+00, 3.6570e+04],\n",
            "        [2.6000e+01, 1.0000e+00, 2.8142e+01, 0.0000e+00, 1.0000e+00, 1.7896e+04]],\n",
            "       dtype=torch.float64)\n",
            "targets: tensor([[11124.2266],\n",
            "        [13270.1047],\n",
            "        [50943.4413],\n",
            "        [31694.1835],\n",
            "        [10648.1930],\n",
            "        [ 2079.0735],\n",
            "        [ 8941.5466],\n",
            "        [ 2121.1859],\n",
            "        [ 4473.7812],\n",
            "        [11130.5757],\n",
            "        [44898.5273],\n",
            "        [ 5696.2745],\n",
            "        [ 9597.9985],\n",
            "        [10985.0784],\n",
            "        [ 9104.7508],\n",
            "        [20159.9412],\n",
            "        [ 2076.7058],\n",
            "        [ 8471.5943],\n",
            "        [14019.7048],\n",
            "        [20962.9836],\n",
            "        [12646.5591],\n",
            "        [ 2223.2058],\n",
            "        [ 3889.5722],\n",
            "        [ 3739.9833],\n",
            "        [13596.6132],\n",
            "        [10371.4881],\n",
            "        [ 6972.5721],\n",
            "        [ 9277.0282],\n",
            "        [13202.7514],\n",
            "        [ 7704.6354],\n",
            "        [ 7504.4602],\n",
            "        [ 8966.6546],\n",
            "        [ 3675.6429],\n",
            "        [ 5652.7128],\n",
            "        [11827.7681],\n",
            "        [12351.1509],\n",
            "        [41577.2776],\n",
            "        [ 2824.6195],\n",
            "        [11507.6794],\n",
            "        [40336.2477],\n",
            "        [15737.8536],\n",
            "        [ 8726.3811],\n",
            "        [10575.6578],\n",
            "        [ 9747.7401],\n",
            "        [40261.7943],\n",
            "        [57892.1722],\n",
            "        [37889.4799],\n",
            "        [12845.5194],\n",
            "        [ 1602.6276],\n",
            "        [34972.9283],\n",
            "        [49408.3087],\n",
            "        [ 5178.2293],\n",
            "        [24741.1670],\n",
            "        [14537.0371],\n",
            "        [ 4660.1766],\n",
            "        [ 3441.0190],\n",
            "        [21246.5975],\n",
            "        [10956.8185],\n",
            "        [50291.6309],\n",
            "        [12425.4714],\n",
            "        [12586.5266],\n",
            "        [ 8129.2153],\n",
            "        [40948.4733],\n",
            "        [10737.5984],\n",
            "        [ 1713.4123],\n",
            "        [12476.0681],\n",
            "        [ 7403.1741],\n",
            "        [ 7893.9266],\n",
            "        [ 1194.3432],\n",
            "        [17615.1193],\n",
            "        [ 3878.0994],\n",
            "        [13864.4999],\n",
            "        [13572.1803],\n",
            "        [12131.9348],\n",
            "        [ 4988.6235],\n",
            "        [21156.7890],\n",
            "        [ 9238.5227],\n",
            "        [13456.2172],\n",
            "        [ 2311.1520],\n",
            "        [ 3665.0766],\n",
            "        [14130.8588],\n",
            "        [38743.6697],\n",
            "        [ 4451.8873],\n",
            "        [ 8116.1280],\n",
            "        [11893.0506],\n",
            "        [51418.7600],\n",
            "        [ 9711.9700],\n",
            "        [ 4622.3447],\n",
            "        [ 2013.1843],\n",
            "        [18371.1213],\n",
            "        [26335.8562],\n",
            "        [36196.4831],\n",
            "        [11105.9414],\n",
            "        [40644.6348],\n",
            "        [23618.3426],\n",
            "        [ 1814.1743],\n",
            "        [ 5758.6907],\n",
            "        [37375.3693],\n",
            "        [10405.8778],\n",
            "        [ 6797.7137],\n",
            "        [ 2241.6466],\n",
            "        [20317.8873],\n",
            "        [20175.4408],\n",
            "        [11093.1287],\n",
            "        [11934.2496],\n",
            "        [ 4193.8867],\n",
            "        [ 2844.5675],\n",
            "        [ 3048.0518],\n",
            "        [25905.2465],\n",
            "        [ 5577.7783],\n",
            "        [11337.2030],\n",
            "        [ 5502.8033],\n",
            "        [ 8682.4962],\n",
            "        [ 4479.4741],\n",
            "        [23533.2809],\n",
            "        [48567.8681],\n",
            "        [ 5994.6226],\n",
            "        [11864.3102],\n",
            "        [ 5072.1615],\n",
            "        [ 2621.8902],\n",
            "        [20657.0025],\n",
            "        [39133.6588],\n",
            "        [10018.7803],\n",
            "        [ 4574.8958],\n",
            "        [19704.1692],\n",
            "        [14825.6010],\n",
            "        [36570.0867],\n",
            "        [17895.5085]], dtype=torch.float64)\n"
          ],
          "name": "stdout"
        }
      ]
    },
    {
      "cell_type": "markdown",
      "metadata": {
        "id": "8sGX5hXA-Gih"
      },
      "source": [
        "Let's save our work by committing to Jovian."
      ]
    },
    {
      "cell_type": "code",
      "metadata": {
        "id": "RR-BqyaU-Gii",
        "colab": {
          "base_uri": "https://localhost:8080/",
          "height": 86
        },
        "outputId": "2b509044-cf17-4a0b-ec7e-729f8860c28b"
      },
      "source": [
        "jovian.commit(project=project_name, environment=None)"
      ],
      "execution_count": 56,
      "outputs": [
        {
          "output_type": "stream",
          "text": [
            "[jovian] Detected Colab notebook...\u001b[0m\n",
            "[jovian] Uploading colab notebook to Jovian...\u001b[0m\n",
            "[jovian] Committed successfully! https://jovian.ai/cyuancheng/02-insurance-linear-regression\u001b[0m\n"
          ],
          "name": "stdout"
        },
        {
          "output_type": "execute_result",
          "data": {
            "application/vnd.google.colaboratory.intrinsic+json": {
              "type": "string"
            },
            "text/plain": [
              "'https://jovian.ai/cyuancheng/02-insurance-linear-regression'"
            ]
          },
          "metadata": {
            "tags": []
          },
          "execution_count": 56
        }
      ]
    },
    {
      "cell_type": "markdown",
      "metadata": {
        "id": "X_zTgk3w-Gij"
      },
      "source": [
        "## Step 3: Create a Linear Regression Model\n",
        "\n",
        "Our model itself is a fairly straightforward linear regression (we'll build more complex models in the next assignment). \n"
      ]
    },
    {
      "cell_type": "code",
      "metadata": {
        "id": "RqxwBwzw-Gij",
        "colab": {
          "base_uri": "https://localhost:8080/"
        },
        "outputId": "d78f84df-5732-4177-c133-dac0a1cd6760"
      },
      "source": [
        "input_size = len(input_cols)\n",
        "output_size = len(output_cols)\n",
        "print(input_size, output_size)"
      ],
      "execution_count": 58,
      "outputs": [
        {
          "output_type": "stream",
          "text": [
            "6 1\n"
          ],
          "name": "stdout"
        }
      ]
    },
    {
      "cell_type": "markdown",
      "metadata": {
        "id": "_P5GZIgC-Gik"
      },
      "source": [
        "**Q: Complete the class definition below by filling out the constructor (`__init__`), `forward`, `training_step` and `validation_step` methods.**\n",
        "\n",
        "Hint: Think carefully about picking a good loss fuction (it's not cross entropy). Maybe try 2-3 of them and see which one works best. See https://pytorch.org/docs/stable/nn.functional.html#loss-functions"
      ]
    },
    {
      "cell_type": "code",
      "metadata": {
        "id": "C775SAI6-Gil"
      },
      "source": [
        "class InsuranceModel(nn.Module):\n",
        "    def __init__(self):\n",
        "        super().__init__()\n",
        "        self.linear = ???                  # fill this (hint: use input_size & output_size defined above)\n",
        "        \n",
        "    def forward(self, xb):\n",
        "        out = ???                          # fill this\n",
        "        return out\n",
        "    \n",
        "    def training_step(self, batch):\n",
        "        inputs, targets = batch \n",
        "        # Generate predictions\n",
        "        out = self(inputs)          \n",
        "        # Calcuate loss\n",
        "        loss = ???                          # fill this\n",
        "        return loss\n",
        "    \n",
        "    def validation_step(self, batch):\n",
        "        inputs, targets = batch\n",
        "        # Generate predictions\n",
        "        out = self(inputs)\n",
        "        # Calculate loss\n",
        "        loss = ???                           # fill this    \n",
        "        return {'val_loss': loss.detach()}\n",
        "        \n",
        "    def validation_epoch_end(self, outputs):\n",
        "        batch_losses = [x['val_loss'] for x in outputs]\n",
        "        epoch_loss = torch.stack(batch_losses).mean()   # Combine losses\n",
        "        return {'val_loss': epoch_loss.item()}\n",
        "    \n",
        "    def epoch_end(self, epoch, result, num_epochs):\n",
        "        # Print result every 20th epoch\n",
        "        if (epoch+1) % 20 == 0 or epoch == num_epochs-1:\n",
        "            print(\"Epoch [{}], val_loss: {:.4f}\".format(epoch+1, result['val_loss']))"
      ],
      "execution_count": null,
      "outputs": []
    },
    {
      "cell_type": "markdown",
      "metadata": {
        "id": "cRz024hB-Gim"
      },
      "source": [
        "Let us create a model using the `InsuranceModel` class. You may need to come back later and re-run the next cell to reinitialize the model, in case the loss becomes `nan` or `infinity`."
      ]
    },
    {
      "cell_type": "code",
      "metadata": {
        "id": "cTLJPKY2-Gin"
      },
      "source": [
        "model = InsuranceModel()"
      ],
      "execution_count": null,
      "outputs": []
    },
    {
      "cell_type": "markdown",
      "metadata": {
        "id": "EOC-Wg18-Gin"
      },
      "source": [
        "Let's check out the weights and biases of the model using `model.parameters`."
      ]
    },
    {
      "cell_type": "code",
      "metadata": {
        "id": "krKGaxdl-Gio"
      },
      "source": [
        "list(model.parameters())"
      ],
      "execution_count": null,
      "outputs": []
    },
    {
      "cell_type": "markdown",
      "metadata": {
        "id": "q4O60agB-Gio"
      },
      "source": [
        "One final commit before we train the model."
      ]
    },
    {
      "cell_type": "code",
      "metadata": {
        "id": "SVmK2iCk-Gip"
      },
      "source": [
        "jovian.commit(project=project_name, environment=None)"
      ],
      "execution_count": null,
      "outputs": []
    },
    {
      "cell_type": "markdown",
      "metadata": {
        "id": "1X3b3cUB-Gip"
      },
      "source": [
        "## Step 4: Train the model to fit the data\n",
        "\n",
        "To train our model, we'll use the same `fit` function explained in the lecture. That's the benefit of defining a generic training loop - you can use it for any problem."
      ]
    },
    {
      "cell_type": "code",
      "metadata": {
        "id": "GVYWyy8n-Gip"
      },
      "source": [
        "def evaluate(model, val_loader):\n",
        "    outputs = [model.validation_step(batch) for batch in val_loader]\n",
        "    return model.validation_epoch_end(outputs)\n",
        "\n",
        "def fit(epochs, lr, model, train_loader, val_loader, opt_func=torch.optim.SGD):\n",
        "    history = []\n",
        "    optimizer = opt_func(model.parameters(), lr)\n",
        "    for epoch in range(epochs):\n",
        "        # Training Phase \n",
        "        for batch in train_loader:\n",
        "            loss = model.training_step(batch)\n",
        "            loss.backward()\n",
        "            optimizer.step()\n",
        "            optimizer.zero_grad()\n",
        "        # Validation phase\n",
        "        result = evaluate(model, val_loader)\n",
        "        model.epoch_end(epoch, result, epochs)\n",
        "        history.append(result)\n",
        "    return history"
      ],
      "execution_count": null,
      "outputs": []
    },
    {
      "cell_type": "markdown",
      "metadata": {
        "id": "AU47E2k9-Giq"
      },
      "source": [
        "**Q: Use the `evaluate` function to calculate the loss on the validation set before training.**"
      ]
    },
    {
      "cell_type": "code",
      "metadata": {
        "id": "C9-dkBTO-Giq"
      },
      "source": [
        "result = ??? # Use the the evaluate function\n",
        "print(result)"
      ],
      "execution_count": null,
      "outputs": []
    },
    {
      "cell_type": "markdown",
      "metadata": {
        "id": "3RukjfEx-Giq"
      },
      "source": [
        "\n",
        "We are now ready to train the model. You may need to run the training loop many times, for different number of epochs and with different learning rates, to get a good result. Also, if your loss becomes too large (or `nan`), you may have to re-initialize the model by running the cell `model = InsuranceModel()`. Experiment with this for a while, and try to get to as low a loss as possible."
      ]
    },
    {
      "cell_type": "markdown",
      "metadata": {
        "id": "DJtBdWke-Gir"
      },
      "source": [
        "**Q: Train the model 4-5 times with different learning rates & for different number of epochs.**\n",
        "\n",
        "Hint: Vary learning rates by orders of 10 (e.g. `1e-2`, `1e-3`, `1e-4`, `1e-5`, `1e-6`) to figure out what works."
      ]
    },
    {
      "cell_type": "code",
      "metadata": {
        "id": "2-P_gOKR-Gir"
      },
      "source": [
        "epochs = ???\n",
        "lr = ???\n",
        "history1 = fit(epochs, lr, model, train_loader, val_loader)"
      ],
      "execution_count": null,
      "outputs": []
    },
    {
      "cell_type": "code",
      "metadata": {
        "id": "eeGSTN19-Gir"
      },
      "source": [
        "epochs = ???\n",
        "lr = ???\n",
        "history2 = fit(epochs, lr, model, train_loader, val_loader)"
      ],
      "execution_count": null,
      "outputs": []
    },
    {
      "cell_type": "code",
      "metadata": {
        "id": "scgVU7Rd-Gis"
      },
      "source": [
        "epochs = ???\n",
        "lr = ???\n",
        "history3 = fit(epochs, lr, model, train_loader, val_loader)"
      ],
      "execution_count": null,
      "outputs": []
    },
    {
      "cell_type": "code",
      "metadata": {
        "id": "9kL_uk7F-Gis"
      },
      "source": [
        "epochs = ???\n",
        "lr = ???\n",
        "history4 = fit(epochs, lr, model, train_loader, val_loader)"
      ],
      "execution_count": null,
      "outputs": []
    },
    {
      "cell_type": "code",
      "metadata": {
        "id": "T4bhTaAK-Gis"
      },
      "source": [
        "epochs = ???\n",
        "lr = ???\n",
        "history5 = fit(epochs, lr, model, train_loader, val_loader)"
      ],
      "execution_count": null,
      "outputs": []
    },
    {
      "cell_type": "markdown",
      "metadata": {
        "id": "-62LN6qi-Git"
      },
      "source": [
        "**Q: What is the final validation loss of your model?**"
      ]
    },
    {
      "cell_type": "code",
      "metadata": {
        "id": "3UfS5yk5-Git"
      },
      "source": [
        "val_loss = ???"
      ],
      "execution_count": null,
      "outputs": []
    },
    {
      "cell_type": "markdown",
      "metadata": {
        "id": "xxeak3tU-Git"
      },
      "source": [
        "Let's log the final validation loss to Jovian and commit the notebook"
      ]
    },
    {
      "cell_type": "code",
      "metadata": {
        "id": "5gn82eA9-Giu"
      },
      "source": [
        "jovian.log_metrics(val_loss=val_loss)"
      ],
      "execution_count": null,
      "outputs": []
    },
    {
      "cell_type": "code",
      "metadata": {
        "id": "lAdjO-bL-Giv"
      },
      "source": [
        "jovian.commit(project=project_name, environment=None)"
      ],
      "execution_count": null,
      "outputs": []
    },
    {
      "cell_type": "markdown",
      "metadata": {
        "id": "rW_-TumE-Giv"
      },
      "source": [
        "Now scroll back up, re-initialize the model, and try different set of values for batch size, number of epochs, learning rate etc. Commit each experiment and use the \"Compare\" and \"View Diff\" options on Jovian to compare the different results."
      ]
    },
    {
      "cell_type": "markdown",
      "metadata": {
        "id": "RqzEkScR-Giw"
      },
      "source": [
        "## Step 5: Make predictions using the trained model\n",
        "\n",
        "**Q: Complete the following function definition to make predictions on a single input**"
      ]
    },
    {
      "cell_type": "code",
      "metadata": {
        "id": "UVN9-BFQ-Gix"
      },
      "source": [
        "def predict_single(input, target, model):\n",
        "    inputs = input.unsqueeze(0)\n",
        "    predictions = ???                # fill this\n",
        "    prediction = predictions[0].detach()\n",
        "    print(\"Input:\", input)\n",
        "    print(\"Target:\", target)\n",
        "    print(\"Prediction:\", prediction)"
      ],
      "execution_count": null,
      "outputs": []
    },
    {
      "cell_type": "code",
      "metadata": {
        "id": "CCPQVhQC-Gix"
      },
      "source": [
        "input, target = val_ds[0]\n",
        "predict_single(input, target, model)"
      ],
      "execution_count": null,
      "outputs": []
    },
    {
      "cell_type": "code",
      "metadata": {
        "id": "8_aVKgQB-Giy"
      },
      "source": [
        "input, target = val_ds[10]\n",
        "predict_single(input, target, model)"
      ],
      "execution_count": null,
      "outputs": []
    },
    {
      "cell_type": "code",
      "metadata": {
        "id": "7jKOFElq-Giy"
      },
      "source": [
        "input, target = val_ds[23]\n",
        "predict_single(input, target, model)"
      ],
      "execution_count": null,
      "outputs": []
    },
    {
      "cell_type": "markdown",
      "metadata": {
        "id": "ZQOY0mhG-Gi1"
      },
      "source": [
        "Are you happy with your model's predictions? Try to improve them further."
      ]
    },
    {
      "cell_type": "markdown",
      "metadata": {
        "id": "3YSOARrU-Gi2"
      },
      "source": [
        "## (Optional) Step 6: Try another dataset & blog about it\n",
        "\n",
        "While this last step is optional for the submission of your assignment, we highly recommend that you do it. Try to replicate this notebook for a different linear regression or logistic regression problem. This will help solidify your understanding, and give you a chance to differentiate the generic patterns in machine learning from problem-specific details.You can use one of these starer notebooks (just change the dataset):\n",
        "\n",
        "- Linear regression (minimal): https://jovian.ai/aakashns/housing-linear-minimal\n",
        "- Logistic regression (minimal): https://jovian.ai/aakashns/mnist-logistic-minimal\n",
        "\n",
        "Here are some sources to find good datasets:\n",
        "\n",
        "- https://lionbridge.ai/datasets/10-open-datasets-for-linear-regression/\n",
        "- https://www.kaggle.com/rtatman/datasets-for-regression-analysis\n",
        "- https://archive.ics.uci.edu/ml/datasets.php?format=&task=reg&att=&area=&numAtt=&numIns=&type=&sort=nameUp&view=table\n",
        "- https://people.sc.fsu.edu/~jburkardt/datasets/regression/regression.html\n",
        "- https://archive.ics.uci.edu/ml/datasets/wine+quality\n",
        "- https://pytorch.org/docs/stable/torchvision/datasets.html\n",
        "\n",
        "We also recommend that you write a blog about your approach to the problem. Here is a suggested structure for your post (feel free to experiment with it):\n",
        "\n",
        "- Interesting title & subtitle\n",
        "- Overview of what the blog covers (which dataset, linear regression or logistic regression, intro to PyTorch)\n",
        "- Downloading & exploring the data\n",
        "- Preparing the data for training\n",
        "- Creating a model using PyTorch\n",
        "- Training the model to fit the data\n",
        "- Your thoughts on how to experiment with different hyperparmeters to reduce loss\n",
        "- Making predictions using the model\n",
        "\n",
        "As with the previous assignment, you can [embed Juptyer notebook cells & outputs from Jovian](https://medium.com/jovianml/share-and-embed-jupyter-notebooks-online-with-jovian-ml-df709a03064e) into your blog. \n",
        "\n",
        "Don't forget to share your work on the forum: https://jovian.ai/forum/t/linear-regression-and-logistic-regression-notebooks-and-blog-posts/14039"
      ]
    },
    {
      "cell_type": "code",
      "metadata": {
        "id": "2gEMcMyL-Gi3",
        "outputId": "30a5502a-426e-4e75-e057-5f50eb00c410"
      },
      "source": [
        "jovian.commit(project=project_name, environment=None)\n",
        "jovian.commit(project=project_name, environment=None) # try again, kaggle fails sometimes"
      ],
      "execution_count": null,
      "outputs": [
        {
          "output_type": "display_data",
          "data": {
            "application/javascript": [
              "window.require && require([\"base/js/namespace\"],function(Jupyter){Jupyter.notebook.save_checkpoint()})"
            ],
            "text/plain": [
              "<IPython.core.display.Javascript object>"
            ]
          },
          "metadata": {
            "tags": []
          }
        },
        {
          "output_type": "stream",
          "text": [
            "[jovian] Attempting to save notebook..\u001b[0m\n",
            "[jovian] Updating notebook \"aakashns/02-insurance-linear-regression\" on https://jovian.ai/\u001b[0m\n",
            "[jovian] Uploading notebook..\u001b[0m\n",
            "[jovian] Committed successfully! https://jovian.ai/aakashns/02-insurance-linear-regression\u001b[0m\n"
          ],
          "name": "stdout"
        },
        {
          "output_type": "display_data",
          "data": {
            "application/javascript": [
              "window.require && require([\"base/js/namespace\"],function(Jupyter){Jupyter.notebook.save_checkpoint()})"
            ],
            "text/plain": [
              "<IPython.core.display.Javascript object>"
            ]
          },
          "metadata": {
            "tags": []
          }
        },
        {
          "output_type": "stream",
          "text": [
            "[jovian] Attempting to save notebook..\u001b[0m\n"
          ],
          "name": "stdout"
        }
      ]
    },
    {
      "cell_type": "code",
      "metadata": {
        "id": "RVTTZRJC-Gi3"
      },
      "source": [
        ""
      ],
      "execution_count": null,
      "outputs": []
    }
  ]
}