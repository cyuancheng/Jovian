{
  "nbformat": 4,
  "nbformat_minor": 0,
  "metadata": {
    "kernelspec": {
      "display_name": "Python 3",
      "language": "python",
      "name": "python3"
    },
    "language_info": {
      "codemirror_mode": {
        "name": "ipython",
        "version": 3
      },
      "file_extension": ".py",
      "mimetype": "text/x-python",
      "name": "python",
      "nbconvert_exporter": "python",
      "pygments_lexer": "ipython3",
      "version": "3.8.5"
    },
    "colab": {
      "name": "02-insurance-linear.ipynb",
      "provenance": []
    }
  },
  "cells": [
    {
      "cell_type": "code",
      "metadata": {
        "id": "nAtBvom_-Ghh"
      },
      "source": [
        "# Jovian Commit Essentials\n",
        "# Please retain and execute this cell without modifying the contents for `jovian.commit` to work\n",
        "!pip install jovian --upgrade -q\n",
        "import jovian\n",
        "jovian.set_project('02-insurance-linear-regression')\n",
        "jovian.set_colab_id('1-AhKqAzxds6UGjidVIMoQUBxO7xwbJY0')"
      ],
      "execution_count": 1,
      "outputs": []
    },
    {
      "cell_type": "markdown",
      "metadata": {
        "_cell_guid": "b1076dfc-b9ad-4769-8c92-a6c4dae69d19",
        "_uuid": "8f2839f25d086af736a60e9eeb907d3b93b6e0e5",
        "id": "4Dn6n2Qd-Ghz"
      },
      "source": [
        "# Insurance cost prediction using linear regression\n",
        "\n",
        "Make a submisson here: https://jovian.ai/learn/deep-learning-with-pytorch-zero-to-gans/assignment/assignment-2-train-your-first-model\n",
        "\n",
        "In this assignment we're going to use information like a person's age, sex, BMI, no. of children and smoking habit to predict the price of yearly medical bills. This kind of model is useful for insurance companies to determine the yearly insurance premium for a person. The dataset for this problem is taken from [Kaggle](https://www.kaggle.com/mirichoi0218/insurance).\n",
        "\n",
        "\n",
        "We will create a model with the following steps:\n",
        "1. Download and explore the dataset\n",
        "2. Prepare the dataset for training\n",
        "3. Create a linear regression model\n",
        "4. Train the model to fit the data\n",
        "5. Make predictions using the trained model\n",
        "\n",
        "\n",
        "This assignment builds upon the concepts from the first 2 lessons. It will help to review these Jupyter notebooks:\n",
        "- PyTorch basics: https://jovian.ai/aakashns/01-pytorch-basics\n",
        "- Linear Regression: https://jovian.ai/aakashns/02-linear-regression\n",
        "- Logistic Regression: https://jovian.ai/aakashns/03-logistic-regression\n",
        "- Linear regression (minimal): https://jovian.ai/aakashns/housing-linear-minimal\n",
        "- Logistic regression (minimal): https://jovian.ai/aakashns/mnist-logistic-minimal\n",
        "\n",
        "As you go through this notebook, you will find a **???** in certain places. Your job is to replace the **???** with appropriate code or values, to ensure that the notebook runs properly end-to-end . In some cases, you'll be required to choose some hyperparameters (learning rate, batch size etc.). Try to experiment with the hypeparameters to get the lowest loss.\n"
      ]
    },
    {
      "cell_type": "code",
      "metadata": {
        "id": "gwTCtPwO-Gh4"
      },
      "source": [
        "# Uncomment and run the appropriate command for your operating system, if required\n",
        "\n",
        "# Linux / Binder\n",
        "# !pip install numpy matplotlib pandas torch==1.7.0+cpu torchvision==0.8.1+cpu torchaudio==0.7.0 -f https://download.pytorch.org/whl/torch_stable.html\n",
        "\n",
        "# Windows\n",
        "# !pip install numpy matplotlib pandas torch==1.7.0+cpu torchvision==0.8.1+cpu torchaudio==0.7.0 -f https://download.pytorch.org/whl/torch_stable.html\n",
        "\n",
        "# MacOS\n",
        "# !pip install numpy matplotlib pandas torch torchvision torchaudio"
      ],
      "execution_count": null,
      "outputs": []
    },
    {
      "cell_type": "code",
      "metadata": {
        "id": "Xzi0VCXP-Gh5"
      },
      "source": [
        "import torch\n",
        "import jovian\n",
        "import torchvision\n",
        "import torch.nn as nn\n",
        "import pandas as pd\n",
        "import matplotlib.pyplot as plt\n",
        "import torch.nn.functional as F\n",
        "from torchvision.datasets.utils import download_url\n",
        "from torch.utils.data import DataLoader, TensorDataset, random_split"
      ],
      "execution_count": 2,
      "outputs": []
    },
    {
      "cell_type": "code",
      "metadata": {
        "id": "_4Ug8mHH-Gh6"
      },
      "source": [
        "project_name='02-insurance-linear-regression' # will be used by jovian.commit"
      ],
      "execution_count": 3,
      "outputs": []
    },
    {
      "cell_type": "markdown",
      "metadata": {
        "id": "4cS6tunl-Gh7"
      },
      "source": [
        "## Step 1: Download and explore the data\n",
        "\n",
        "Let us begin by downloading the data. We'll use the `download_url` function from PyTorch to get the data as a CSV (comma-separated values) file. "
      ]
    },
    {
      "cell_type": "code",
      "metadata": {
        "_cell_guid": "79c7e3d0-c299-4dcb-8224-4455121ee9b0",
        "_uuid": "d629ff2d2480ee46fbb7e2d37f6b5fab8052498a",
        "id": "Gr_OwVW--Gh8",
        "colab": {
          "base_uri": "https://localhost:8080/"
        },
        "outputId": "6763d090-5242-48a7-933d-39a45e0a813d"
      },
      "source": [
        "DATASET_URL = \"https://hub.jovian.ml/wp-content/uploads/2020/05/insurance.csv\"\n",
        "DATA_FILENAME = \"insurance.csv\"\n",
        "download_url(DATASET_URL, '.')"
      ],
      "execution_count": 4,
      "outputs": [
        {
          "output_type": "stream",
          "text": [
            "Using downloaded and verified file: ./insurance.csv\n"
          ],
          "name": "stdout"
        }
      ]
    },
    {
      "cell_type": "markdown",
      "metadata": {
        "id": "9vz7oEtv-GiB"
      },
      "source": [
        "To load the dataset into memory, we'll use the `read_csv` function from the `pandas` library. The data will be loaded as a Pandas dataframe. See this short tutorial to learn more: https://data36.com/pandas-tutorial-1-basics-reading-data-files-dataframes-data-selection/"
      ]
    },
    {
      "cell_type": "code",
      "metadata": {
        "id": "DpHMmJG6-GiF",
        "colab": {
          "base_uri": "https://localhost:8080/",
          "height": 204
        },
        "outputId": "aac3a559-bac4-4748-c960-cfe8f6bb82d8"
      },
      "source": [
        "dataframe_raw = pd.read_csv(DATA_FILENAME)\n",
        "dataframe_raw.head()"
      ],
      "execution_count": 5,
      "outputs": [
        {
          "output_type": "execute_result",
          "data": {
            "text/html": [
              "<div>\n",
              "<style scoped>\n",
              "    .dataframe tbody tr th:only-of-type {\n",
              "        vertical-align: middle;\n",
              "    }\n",
              "\n",
              "    .dataframe tbody tr th {\n",
              "        vertical-align: top;\n",
              "    }\n",
              "\n",
              "    .dataframe thead th {\n",
              "        text-align: right;\n",
              "    }\n",
              "</style>\n",
              "<table border=\"1\" class=\"dataframe\">\n",
              "  <thead>\n",
              "    <tr style=\"text-align: right;\">\n",
              "      <th></th>\n",
              "      <th>age</th>\n",
              "      <th>sex</th>\n",
              "      <th>bmi</th>\n",
              "      <th>children</th>\n",
              "      <th>smoker</th>\n",
              "      <th>region</th>\n",
              "      <th>charges</th>\n",
              "    </tr>\n",
              "  </thead>\n",
              "  <tbody>\n",
              "    <tr>\n",
              "      <th>0</th>\n",
              "      <td>19</td>\n",
              "      <td>female</td>\n",
              "      <td>27.900</td>\n",
              "      <td>0</td>\n",
              "      <td>yes</td>\n",
              "      <td>southwest</td>\n",
              "      <td>16884.92400</td>\n",
              "    </tr>\n",
              "    <tr>\n",
              "      <th>1</th>\n",
              "      <td>18</td>\n",
              "      <td>male</td>\n",
              "      <td>33.770</td>\n",
              "      <td>1</td>\n",
              "      <td>no</td>\n",
              "      <td>southeast</td>\n",
              "      <td>1725.55230</td>\n",
              "    </tr>\n",
              "    <tr>\n",
              "      <th>2</th>\n",
              "      <td>28</td>\n",
              "      <td>male</td>\n",
              "      <td>33.000</td>\n",
              "      <td>3</td>\n",
              "      <td>no</td>\n",
              "      <td>southeast</td>\n",
              "      <td>4449.46200</td>\n",
              "    </tr>\n",
              "    <tr>\n",
              "      <th>3</th>\n",
              "      <td>33</td>\n",
              "      <td>male</td>\n",
              "      <td>22.705</td>\n",
              "      <td>0</td>\n",
              "      <td>no</td>\n",
              "      <td>northwest</td>\n",
              "      <td>21984.47061</td>\n",
              "    </tr>\n",
              "    <tr>\n",
              "      <th>4</th>\n",
              "      <td>32</td>\n",
              "      <td>male</td>\n",
              "      <td>28.880</td>\n",
              "      <td>0</td>\n",
              "      <td>no</td>\n",
              "      <td>northwest</td>\n",
              "      <td>3866.85520</td>\n",
              "    </tr>\n",
              "  </tbody>\n",
              "</table>\n",
              "</div>"
            ],
            "text/plain": [
              "   age     sex     bmi  children smoker     region      charges\n",
              "0   19  female  27.900         0    yes  southwest  16884.92400\n",
              "1   18    male  33.770         1     no  southeast   1725.55230\n",
              "2   28    male  33.000         3     no  southeast   4449.46200\n",
              "3   33    male  22.705         0     no  northwest  21984.47061\n",
              "4   32    male  28.880         0     no  northwest   3866.85520"
            ]
          },
          "metadata": {
            "tags": []
          },
          "execution_count": 5
        }
      ]
    },
    {
      "cell_type": "markdown",
      "metadata": {
        "id": "zUn7piaw-GiH"
      },
      "source": [
        "We're going to do a slight customization of the data, so that you every participant receives a slightly different version of the dataset. Fill in your name below as a string (enter at least 5 characters)"
      ]
    },
    {
      "cell_type": "code",
      "metadata": {
        "id": "yu6Gobcu-GiI"
      },
      "source": [
        "your_name = 'chiyuan' # at least 5 characters"
      ],
      "execution_count": 6,
      "outputs": []
    },
    {
      "cell_type": "markdown",
      "metadata": {
        "id": "zeOsf8Sn-GiJ"
      },
      "source": [
        "The `customize_dataset` function will customize the dataset slightly using your name as a source of random numbers."
      ]
    },
    {
      "cell_type": "code",
      "metadata": {
        "id": "iqw-uT6S-GiJ"
      },
      "source": [
        "def customize_dataset(dataframe_raw, rand_str):\n",
        "    dataframe = dataframe_raw.copy(deep=True)\n",
        "    # drop some rows\n",
        "    dataframe = dataframe.sample(int(0.95*len(dataframe)), random_state=int(ord(rand_str[0])))\n",
        "    # scale input\n",
        "    dataframe.bmi = dataframe.bmi * ord(rand_str[1])/100.\n",
        "    # scale target\n",
        "    dataframe.charges = dataframe.charges * ord(rand_str[2])/100.\n",
        "    # drop column\n",
        "    if ord(rand_str[3]) % 2 == 1:\n",
        "        dataframe = dataframe.drop(['region'], axis=1)\n",
        "    return dataframe"
      ],
      "execution_count": 7,
      "outputs": []
    },
    {
      "cell_type": "code",
      "metadata": {
        "id": "rx2k_Rqs-GiK",
        "colab": {
          "base_uri": "https://localhost:8080/",
          "height": 204
        },
        "outputId": "2c570e42-46f3-457a-c5f4-83cddb8ccc9c"
      },
      "source": [
        "dataframe = customize_dataset(dataframe_raw, your_name)\n",
        "dataframe.head()"
      ],
      "execution_count": 8,
      "outputs": [
        {
          "output_type": "execute_result",
          "data": {
            "text/html": [
              "<div>\n",
              "<style scoped>\n",
              "    .dataframe tbody tr th:only-of-type {\n",
              "        vertical-align: middle;\n",
              "    }\n",
              "\n",
              "    .dataframe tbody tr th {\n",
              "        vertical-align: top;\n",
              "    }\n",
              "\n",
              "    .dataframe thead th {\n",
              "        text-align: right;\n",
              "    }\n",
              "</style>\n",
              "<table border=\"1\" class=\"dataframe\">\n",
              "  <thead>\n",
              "    <tr style=\"text-align: right;\">\n",
              "      <th></th>\n",
              "      <th>age</th>\n",
              "      <th>sex</th>\n",
              "      <th>bmi</th>\n",
              "      <th>children</th>\n",
              "      <th>smoker</th>\n",
              "      <th>charges</th>\n",
              "    </tr>\n",
              "  </thead>\n",
              "  <tbody>\n",
              "    <tr>\n",
              "      <th>156</th>\n",
              "      <td>48</td>\n",
              "      <td>male</td>\n",
              "      <td>25.3968</td>\n",
              "      <td>0</td>\n",
              "      <td>yes</td>\n",
              "      <td>22284.859590</td>\n",
              "    </tr>\n",
              "    <tr>\n",
              "      <th>123</th>\n",
              "      <td>44</td>\n",
              "      <td>male</td>\n",
              "      <td>32.6040</td>\n",
              "      <td>1</td>\n",
              "      <td>yes</td>\n",
              "      <td>41534.319225</td>\n",
              "    </tr>\n",
              "    <tr>\n",
              "      <th>1269</th>\n",
              "      <td>45</td>\n",
              "      <td>male</td>\n",
              "      <td>28.6000</td>\n",
              "      <td>3</td>\n",
              "      <td>no</td>\n",
              "      <td>9046.065000</td>\n",
              "    </tr>\n",
              "    <tr>\n",
              "      <th>512</th>\n",
              "      <td>51</td>\n",
              "      <td>male</td>\n",
              "      <td>23.3168</td>\n",
              "      <td>0</td>\n",
              "      <td>no</td>\n",
              "      <td>9829.393140</td>\n",
              "    </tr>\n",
              "    <tr>\n",
              "      <th>377</th>\n",
              "      <td>24</td>\n",
              "      <td>male</td>\n",
              "      <td>41.7560</td>\n",
              "      <td>0</td>\n",
              "      <td>yes</td>\n",
              "      <td>40032.558825</td>\n",
              "    </tr>\n",
              "  </tbody>\n",
              "</table>\n",
              "</div>"
            ],
            "text/plain": [
              "      age   sex      bmi  children smoker       charges\n",
              "156    48  male  25.3968         0    yes  22284.859590\n",
              "123    44  male  32.6040         1    yes  41534.319225\n",
              "1269   45  male  28.6000         3     no   9046.065000\n",
              "512    51  male  23.3168         0     no   9829.393140\n",
              "377    24  male  41.7560         0    yes  40032.558825"
            ]
          },
          "metadata": {
            "tags": []
          },
          "execution_count": 8
        }
      ]
    },
    {
      "cell_type": "markdown",
      "metadata": {
        "id": "nzeNUGgm-GiL"
      },
      "source": [
        "Let us answer some basic questions about the dataset. \n",
        "\n",
        "\n",
        "**Q: How many rows does the dataset have?**"
      ]
    },
    {
      "cell_type": "code",
      "metadata": {
        "id": "Plp-EVVD-GiL",
        "colab": {
          "base_uri": "https://localhost:8080/"
        },
        "outputId": "f9e1b6c2-6b2d-4522-e858-da54ee733ccb"
      },
      "source": [
        "num_rows = dataframe.shape[0]\n",
        "print(num_rows)"
      ],
      "execution_count": 64,
      "outputs": [
        {
          "output_type": "stream",
          "text": [
            "1271\n"
          ],
          "name": "stdout"
        }
      ]
    },
    {
      "cell_type": "markdown",
      "metadata": {
        "id": "JTm8Gtnf-GiM"
      },
      "source": [
        "**Q: How many columns doe the dataset have**"
      ]
    },
    {
      "cell_type": "code",
      "metadata": {
        "id": "tgDmLr3q-GiN",
        "colab": {
          "base_uri": "https://localhost:8080/"
        },
        "outputId": "29c064e2-56ed-42cd-998f-19a8d80c0bec"
      },
      "source": [
        "num_cols = dataframe.shape[1]\n",
        "print(num_cols)"
      ],
      "execution_count": 65,
      "outputs": [
        {
          "output_type": "stream",
          "text": [
            "6\n"
          ],
          "name": "stdout"
        }
      ]
    },
    {
      "cell_type": "markdown",
      "metadata": {
        "id": "_9breNg3-GiN"
      },
      "source": [
        "**Q: What are the column titles of the input variables?**"
      ]
    },
    {
      "cell_type": "code",
      "metadata": {
        "id": "WRwBZLQd-GiP",
        "colab": {
          "base_uri": "https://localhost:8080/"
        },
        "outputId": "3dea0420-f7eb-40f2-b486-b8837638c6e9"
      },
      "source": [
        "input_cols = dataframe.columns.to_list()[:-1]\r\n",
        "input_cols"
      ],
      "execution_count": 66,
      "outputs": [
        {
          "output_type": "execute_result",
          "data": {
            "text/plain": [
              "['age', 'sex', 'bmi', 'children', 'smoker']"
            ]
          },
          "metadata": {
            "tags": []
          },
          "execution_count": 66
        }
      ]
    },
    {
      "cell_type": "markdown",
      "metadata": {
        "id": "kFUhL3On-GiQ"
      },
      "source": [
        "**Q: Which of the input columns are non-numeric or categorial variables ?**\n",
        "\n",
        "Hint: `sex` is one of them. List the columns that are not numbers."
      ]
    },
    {
      "cell_type": "code",
      "metadata": {
        "id": "tObpe4jz-GiR",
        "colab": {
          "base_uri": "https://localhost:8080/"
        },
        "outputId": "109bee2c-29c8-4940-8f26-e4ee62e47d60"
      },
      "source": [
        "categorical_cols = [title for title in dataframe.select_dtypes(exclude =['number']).columns]\r\n",
        "#categorical_cols = dataframe.columns[dataframe.dtypes ==object].to_list()\r\n",
        "categorical_cols"
      ],
      "execution_count": 67,
      "outputs": [
        {
          "output_type": "execute_result",
          "data": {
            "text/plain": [
              "['sex', 'smoker']"
            ]
          },
          "metadata": {
            "tags": []
          },
          "execution_count": 67
        }
      ]
    },
    {
      "cell_type": "markdown",
      "metadata": {
        "id": "ZgKK1PG3-GiR"
      },
      "source": [
        "**Q: What are the column titles of output/target variable(s)?**"
      ]
    },
    {
      "cell_type": "code",
      "metadata": {
        "id": "DpgSrHZT-GiS"
      },
      "source": [
        "output_cols = ['charges']"
      ],
      "execution_count": 68,
      "outputs": []
    },
    {
      "cell_type": "markdown",
      "metadata": {
        "id": "awPIHhb5-GiS"
      },
      "source": [
        "**Q: (Optional) What is the minimum, maximum and average value of the `charges` column? Can you show the distribution of values in a graph?**\n",
        "Use this data visualization cheatsheet for referece: https://jovian.ml/aakashns/dataviz-cheatsheet"
      ]
    },
    {
      "cell_type": "code",
      "metadata": {
        "id": "vTb1dIyT-GiT",
        "colab": {
          "base_uri": "https://localhost:8080/"
        },
        "outputId": "e628bcb8-81e7-423b-96f3-99d63e53777d"
      },
      "source": [
        "# Write your answer here\r\n",
        "print(dataframe['charges'].min())\r\n",
        "print(dataframe['charges'].max())\r\n",
        "print(dataframe['charges'].mean())\r\n"
      ],
      "execution_count": 69,
      "outputs": [
        {
          "output_type": "stream",
          "text": [
            "1177.967595\n",
            "66958.9494105\n",
            "13959.282470175427\n"
          ],
          "name": "stdout"
        }
      ]
    },
    {
      "cell_type": "code",
      "metadata": {
        "colab": {
          "base_uri": "https://localhost:8080/",
          "height": 344
        },
        "id": "Uakel5h8A8Lk",
        "outputId": "adf2f6a7-888e-405f-fd02-c3629d77cbaf"
      },
      "source": [
        "import seaborn as sns\r\n",
        "import matplotlib.pyplot as plt\r\n",
        "sns.distplot(dataframe['charges'])\r\n",
        "plt.show()"
      ],
      "execution_count": 70,
      "outputs": [
        {
          "output_type": "stream",
          "text": [
            "/usr/local/lib/python3.6/dist-packages/seaborn/distributions.py:2557: FutureWarning: `distplot` is a deprecated function and will be removed in a future version. Please adapt your code to use either `displot` (a figure-level function with similar flexibility) or `histplot` (an axes-level function for histograms).\n",
            "  warnings.warn(msg, FutureWarning)\n"
          ],
          "name": "stderr"
        },
        {
          "output_type": "display_data",
          "data": {
            "image/png": "[encoded data removed]",
            "text/plain": [
              "<Figure size 432x288 with 1 Axes>"
            ]
          },
          "metadata": {
            "tags": [],
            "needs_background": "light"
          }
        }
      ]
    },
    {
      "cell_type": "markdown",
      "metadata": {
        "id": "P5qbL5qG-GiT"
      },
      "source": [
        "Remember to commit your notebook to Jovian after every step, so that you don't lose your work."
      ]
    },
    {
      "cell_type": "code",
      "metadata": {
        "id": "Bj2hRbXb-GiT"
      },
      "source": [
        "!pip install jovian --upgrade -q"
      ],
      "execution_count": 71,
      "outputs": []
    },
    {
      "cell_type": "code",
      "metadata": {
        "id": "NpN4H4Oa-GiU"
      },
      "source": [
        "import jovian"
      ],
      "execution_count": 72,
      "outputs": []
    },
    {
      "cell_type": "code",
      "metadata": {
        "id": "3jz6r1Qs-GiU",
        "colab": {
          "base_uri": "https://localhost:8080/",
          "height": 103
        },
        "outputId": "6a221997-69f3-4aaa-c69e-159b2d0f835a"
      },
      "source": [
        "jovian.commit()"
      ],
      "execution_count": 73,
      "outputs": [
        {
          "output_type": "stream",
          "text": [
            "[jovian] Detected Colab notebook...\u001b[0m\n",
            "[jovian] Uploading colab notebook to Jovian...\u001b[0m\n",
            "[jovian] Capturing environment..\u001b[0m\n",
            "[jovian] Committed successfully! https://jovian.ai/cyuancheng/02-insurance-linear-regression\u001b[0m\n"
          ],
          "name": "stdout"
        },
        {
          "output_type": "execute_result",
          "data": {
            "application/vnd.google.colaboratory.intrinsic+json": {
              "type": "string"
            },
            "text/plain": [
              "'https://jovian.ai/cyuancheng/02-insurance-linear-regression'"
            ]
          },
          "metadata": {
            "tags": []
          },
          "execution_count": 73
        }
      ]
    },
    {
      "cell_type": "markdown",
      "metadata": {
        "id": "kAG6lHca-GiV"
      },
      "source": [
        "## Step 2: Prepare the dataset for training\n",
        "\n",
        "We need to convert the data from the Pandas dataframe into a PyTorch tensors for training. To do this, the first step is to convert it numpy arrays. If you've filled out `input_cols`, `categorial_cols` and `output_cols` correctly, this following function will perform the conversion to numpy arrays."
      ]
    },
    {
      "cell_type": "code",
      "metadata": {
        "id": "6jdTUH8K-GiW"
      },
      "source": [
        "def dataframe_to_arrays(dataframe):\n",
        "    # Make a copy of the original dataframe\n",
        "    dataframe1 = dataframe.copy(deep=True)\n",
        "    # Convert non-numeric categorical columns to numbers\n",
        "    for col in categorical_cols:\n",
        "        dataframe1[col] = dataframe1[col].astype('category').cat.codes\n",
        "    # Extract input & outupts as numpy arrays\n",
        "    inputs_array = dataframe1[input_cols].to_numpy()\n",
        "    targets_array = dataframe1[output_cols].to_numpy()\n",
        "    return inputs_array, targets_array"
      ],
      "execution_count": 74,
      "outputs": []
    },
    {
      "cell_type": "markdown",
      "metadata": {
        "id": "UKAVQggo-GiZ"
      },
      "source": [
        "Read through the [Pandas documentation](https://pandas.pydata.org/pandas-docs/stable/user_guide/categorical.html) to understand how we're converting categorical variables into numbers."
      ]
    },
    {
      "cell_type": "code",
      "metadata": {
        "id": "jPnp9tjB-Gia",
        "colab": {
          "base_uri": "https://localhost:8080/"
        },
        "outputId": "5222d814-c6c5-4cad-d11e-8328d04509f2"
      },
      "source": [
        "inputs_array, targets_array = dataframe_to_arrays(dataframe)\n",
        "inputs_array, targets_array"
      ],
      "execution_count": 75,
      "outputs": [
        {
          "output_type": "execute_result",
          "data": {
            "text/plain": [
              "(array([[48.    ,  1.    , 25.3968,  0.    ,  1.    ],\n",
              "        [44.    ,  1.    , 32.604 ,  1.    ,  1.    ],\n",
              "        [45.    ,  1.    , 28.6   ,  3.    ,  0.    ],\n",
              "        ...,\n",
              "        [31.    ,  1.    , 37.752 ,  2.    ,  1.    ],\n",
              "        [18.    ,  0.    , 39.8112,  0.    ,  0.    ],\n",
              "        [37.    ,  1.    , 35.464 ,  4.    ,  1.    ]]), array([[22284.85959 ],\n",
              "        [41534.319225],\n",
              "        [ 9046.065   ],\n",
              "        ...,\n",
              "        [40646.55    ],\n",
              "        [ 1713.41226 ],\n",
              "        [42191.3583  ]]))"
            ]
          },
          "metadata": {
            "tags": []
          },
          "execution_count": 75
        }
      ]
    },
    {
      "cell_type": "markdown",
      "metadata": {
        "id": "fElWSigL-Gia"
      },
      "source": [
        "**Q: Convert the numpy arrays `inputs_array` and `targets_array` into PyTorch tensors. Make sure that the data type is `torch.float32`.**"
      ]
    },
    {
      "cell_type": "code",
      "metadata": {
        "id": "z30BUoqa-Gib"
      },
      "source": [
        "inputs = torch.tensor(inputs_array, dtype = torch.float32)\n",
        "targets = torch.tensor(targets_array, dtype = torch.float32)"
      ],
      "execution_count": 76,
      "outputs": []
    },
    {
      "cell_type": "code",
      "metadata": {
        "id": "mBz5rdCi-Gib",
        "colab": {
          "base_uri": "https://localhost:8080/"
        },
        "outputId": "b9ecf70d-90fb-4400-b43b-80ba9ceca777"
      },
      "source": [
        "inputs.dtype, targets.dtype"
      ],
      "execution_count": 77,
      "outputs": [
        {
          "output_type": "execute_result",
          "data": {
            "text/plain": [
              "(torch.float32, torch.float32)"
            ]
          },
          "metadata": {
            "tags": []
          },
          "execution_count": 77
        }
      ]
    },
    {
      "cell_type": "markdown",
      "metadata": {
        "id": "2JE70_Nl-Gic"
      },
      "source": [
        "Next, we need to create PyTorch datasets & data loaders for training & validation. We'll start by creating a `TensorDataset`."
      ]
    },
    {
      "cell_type": "code",
      "metadata": {
        "id": "upLam5v3-Gic"
      },
      "source": [
        "dataset = TensorDataset(inputs, targets)"
      ],
      "execution_count": 95,
      "outputs": []
    },
    {
      "cell_type": "markdown",
      "metadata": {
        "id": "5DssADgs-Gic"
      },
      "source": [
        "**Q: Pick a number between `0.1` and `0.2` to determine the fraction of data that will be used for creating the validation set. Then use `random_split` to create training & validation datasets.**"
      ]
    },
    {
      "cell_type": "code",
      "metadata": {
        "id": "B93fdXGo-Gid"
      },
      "source": [
        "val_percent = 0.2 # between 0.1 and 0.2\n",
        "val_size = int(num_rows * val_percent)\n",
        "train_size = num_rows - val_size\n",
        "\n",
        "train_ds, val_ds =  random_split(dataset, [train_size, val_size]) # Use the random_split function to split dataset into 2 parts of the desired length"
      ],
      "execution_count": 96,
      "outputs": []
    },
    {
      "cell_type": "markdown",
      "metadata": {
        "id": "5FPoMh-C-Gie"
      },
      "source": [
        "Finally, we can create data loaders for training & validation.\n",
        "\n",
        "**Q: Pick a batch size for the data loader.**"
      ]
    },
    {
      "cell_type": "code",
      "metadata": {
        "id": "Yw_iydyu-Gif"
      },
      "source": [
        "batch_size = 64"
      ],
      "execution_count": 97,
      "outputs": []
    },
    {
      "cell_type": "code",
      "metadata": {
        "id": "O6TPr6C2-Gig"
      },
      "source": [
        "train_loader = DataLoader(train_ds, batch_size, shuffle=True)\n",
        "val_loader = DataLoader(val_ds, batch_size)"
      ],
      "execution_count": 98,
      "outputs": []
    },
    {
      "cell_type": "markdown",
      "metadata": {
        "id": "rJfC5fMp-Gig"
      },
      "source": [
        "Let's look at a batch of data to verify everything is working fine so far."
      ]
    },
    {
      "cell_type": "code",
      "metadata": {
        "id": "Ku4lpq-H-Gih",
        "colab": {
          "base_uri": "https://localhost:8080/"
        },
        "outputId": "bb966bc8-1eca-401f-b774-a248d0075c5a"
      },
      "source": [
        "for xb, yb in train_loader:\n",
        "    print(\"inputs:\", xb)\n",
        "    print(\"targets:\", yb)\n",
        "    break"
      ],
      "execution_count": 99,
      "outputs": [
        {
          "output_type": "stream",
          "text": [
            "inputs: tensor([[19.0000,  0.0000, 33.3944,  0.0000,  0.0000],\n",
            "        [19.0000,  0.0000, 29.4424,  0.0000,  1.0000],\n",
            "        [57.0000,  0.0000, 29.8480,  0.0000,  0.0000],\n",
            "        [60.0000,  1.0000, 25.2928,  0.0000,  0.0000],\n",
            "        [57.0000,  1.0000, 29.2240,  0.0000,  0.0000],\n",
            "        [43.0000,  0.0000, 31.0960,  1.0000,  0.0000],\n",
            "        [60.0000,  0.0000, 39.5824,  0.0000,  0.0000],\n",
            "        [64.0000,  1.0000, 39.4212,  0.0000,  0.0000],\n",
            "        [56.0000,  0.0000, 43.5864,  0.0000,  0.0000],\n",
            "        [51.0000,  0.0000, 39.5824,  0.0000,  1.0000],\n",
            "        [40.0000,  0.0000, 29.8376,  3.0000,  0.0000],\n",
            "        [54.0000,  0.0000, 32.4896,  0.0000,  0.0000],\n",
            "        [35.0000,  0.0000, 27.1700,  0.0000,  0.0000],\n",
            "        [32.0000,  0.0000, 38.6308,  3.0000,  0.0000],\n",
            "        [26.0000,  0.0000, 17.8828,  2.0000,  1.0000],\n",
            "        [36.0000,  1.0000, 29.1460,  1.0000,  1.0000],\n",
            "        [27.0000,  0.0000, 26.1820,  0.0000,  0.0000],\n",
            "        [48.0000,  1.0000, 33.5920,  1.0000,  0.0000],\n",
            "        [61.0000,  0.0000, 32.4064,  0.0000,  0.0000],\n",
            "        [62.0000,  1.0000, 40.3832,  0.0000,  0.0000],\n",
            "        [19.0000,  1.0000, 22.6252,  0.0000,  0.0000],\n",
            "        [31.0000,  0.0000, 31.7148,  3.0000,  0.0000],\n",
            "        [33.0000,  1.0000, 25.7868,  0.0000,  1.0000],\n",
            "        [23.0000,  0.0000, 34.7360,  0.0000,  0.0000],\n",
            "        [19.0000,  1.0000, 21.4396,  2.0000,  0.0000],\n",
            "        [27.0000,  1.0000, 47.7360,  2.0000,  0.0000],\n",
            "        [54.0000,  0.0000, 25.5892,  3.0000,  0.0000],\n",
            "        [39.0000,  1.0000, 36.7120,  2.0000,  1.0000],\n",
            "        [41.0000,  1.0000, 38.5320,  2.0000,  0.0000],\n",
            "        [27.0000,  1.0000, 31.7200,  0.0000,  0.0000],\n",
            "        [22.0000,  1.0000, 38.5528,  2.0000,  1.0000],\n",
            "        [36.0000,  1.0000, 35.1728,  1.0000,  0.0000],\n",
            "        [48.0000,  1.0000, 35.6720,  3.0000,  0.0000],\n",
            "        [51.0000,  1.0000, 25.7868,  2.0000,  1.0000],\n",
            "        [42.0000,  1.0000, 37.2320,  2.0000,  0.0000],\n",
            "        [43.0000,  1.0000, 26.5408,  5.0000,  0.0000],\n",
            "        [51.0000,  0.0000, 36.3584,  2.0000,  1.0000],\n",
            "        [22.0000,  0.0000, 22.1312,  3.0000,  0.0000],\n",
            "        [36.0000,  1.0000, 32.7600,  0.0000,  0.0000],\n",
            "        [44.0000,  0.0000, 26.0000,  1.0000,  0.0000],\n",
            "        [44.0000,  1.0000, 26.3796,  1.0000,  0.0000],\n",
            "        [48.0000,  1.0000, 30.8880,  0.0000,  0.0000],\n",
            "        [21.0000,  0.0000, 23.0204,  0.0000,  0.0000],\n",
            "        [51.0000,  0.0000, 35.2716,  0.0000,  0.0000],\n",
            "        [24.0000,  0.0000, 23.5040,  0.0000,  0.0000],\n",
            "        [28.0000,  0.0000, 39.1248,  1.0000,  0.0000],\n",
            "        [30.0000,  0.0000, 24.6012,  3.0000,  1.0000],\n",
            "        [57.0000,  0.0000, 31.7148,  0.0000,  0.0000],\n",
            "        [62.0000,  1.0000, 32.7184,  1.0000,  0.0000],\n",
            "        [54.0000,  0.0000, 32.0320,  3.0000,  0.0000],\n",
            "        [63.0000,  1.0000, 36.4936,  0.0000,  1.0000],\n",
            "        [52.0000,  1.0000, 31.4080,  1.0000,  0.0000],\n",
            "        [36.0000,  0.0000, 28.8496,  0.0000,  0.0000],\n",
            "        [29.0000,  1.0000, 32.9992,  2.0000,  0.0000],\n",
            "        [48.0000,  1.0000, 25.3968,  0.0000,  1.0000],\n",
            "        [36.0000,  1.0000, 29.7388,  3.0000,  0.0000],\n",
            "        [63.0000,  0.0000, 24.0084,  0.0000,  0.0000],\n",
            "        [19.0000,  1.0000, 26.5772,  0.0000,  0.0000],\n",
            "        [28.0000,  0.0000, 27.3676,  3.0000,  0.0000],\n",
            "        [61.0000,  1.0000, 37.2944,  0.0000,  1.0000],\n",
            "        [22.0000,  1.0000, 32.9992,  0.0000,  0.0000],\n",
            "        [56.0000,  0.0000, 33.5920,  3.0000,  0.0000],\n",
            "        [64.0000,  0.0000, 35.1520,  1.0000,  1.0000],\n",
            "        [38.0000,  1.0000, 20.7480,  1.0000,  0.0000]])\n",
            "targets: tensor([[ 2237.2097],\n",
            "        [18342.4336],\n",
            "        [12028.0439],\n",
            "        [13149.7852],\n",
            "        [11513.7188],\n",
            "        [ 7704.6353],\n",
            "        [13281.1387],\n",
            "        [14921.0625],\n",
            "        [11648.3037],\n",
            "        [46620.4258],\n",
            "        [ 8462.6631],\n",
            "        [10855.8779],\n",
            "        [ 5489.3882],\n",
            "        [ 6651.0605],\n",
            "        [15178.4258],\n",
            "        [21812.3086],\n",
            "        [ 3736.5513],\n",
            "        [ 9203.5117],\n",
            "        [14100.4873],\n",
            "        [13630.4131],\n",
            "        [ 1708.6466],\n",
            "        [ 6418.8926],\n",
            "        [18799.7539],\n",
            "        [11335.7344],\n",
            "        [ 2943.8828],\n",
            "        [ 3878.0994],\n",
            "        [13103.6943],\n",
            "        [42109.0859],\n",
            "        [ 7628.9878],\n",
            "        [ 2618.7231],\n",
            "        [39358.6719],\n",
            "        [ 5646.3306],\n",
            "        [10041.1807],\n",
            "        [25165.7520],\n",
            "        [ 7518.0986],\n",
            "        [15202.2471],\n",
            "        [46873.2578],\n",
            "        [ 4511.0850],\n",
            "        [ 4622.3447],\n",
            "        [ 8004.6938],\n",
            "        [ 7893.9268],\n",
            "        [ 8179.1167],\n",
            "        [ 2715.1431],\n",
            "        [10359.6201],\n",
            "        [ 2580.3772],\n",
            "        [ 3955.2280],\n",
            "        [19704.1699],\n",
            "        [12432.8135],\n",
            "        [28351.0332],\n",
            "        [12710.5859],\n",
            "        [49408.3086],\n",
            "        [10210.7568],\n",
            "        [ 5742.4570],\n",
            "        [ 4655.0571],\n",
            "        [22284.8594],\n",
            "        [ 6875.6050],\n",
            "        [15174.4268],\n",
            "        [ 1714.1926],\n",
            "        [ 5577.7783],\n",
            "        [48929.0625],\n",
            "        [ 2367.5366],\n",
            "        [14101.7783],\n",
            "        [50324.4297],\n",
            "        [ 6148.6978]])\n"
          ],
          "name": "stdout"
        }
      ]
    },
    {
      "cell_type": "markdown",
      "metadata": {
        "id": "8sGX5hXA-Gih"
      },
      "source": [
        "Let's save our work by committing to Jovian."
      ]
    },
    {
      "cell_type": "code",
      "metadata": {
        "id": "RR-BqyaU-Gii",
        "colab": {
          "base_uri": "https://localhost:8080/",
          "height": 86
        },
        "outputId": "6200b755-cf28-4ce0-b3b2-628e8a438baa"
      },
      "source": [
        "jovian.commit(project=project_name, environment=None)"
      ],
      "execution_count": 29,
      "outputs": [
        {
          "output_type": "stream",
          "text": [
            "[jovian] Detected Colab notebook...\u001b[0m\n",
            "[jovian] Uploading colab notebook to Jovian...\u001b[0m\n",
            "[jovian] Committed successfully! https://jovian.ai/cyuancheng/02-insurance-linear-regression\u001b[0m\n"
          ],
          "name": "stdout"
        },
        {
          "output_type": "execute_result",
          "data": {
            "application/vnd.google.colaboratory.intrinsic+json": {
              "type": "string"
            },
            "text/plain": [
              "'https://jovian.ai/cyuancheng/02-insurance-linear-regression'"
            ]
          },
          "metadata": {
            "tags": []
          },
          "execution_count": 29
        }
      ]
    },
    {
      "cell_type": "markdown",
      "metadata": {
        "id": "X_zTgk3w-Gij"
      },
      "source": [
        "## Step 3: Create a Linear Regression Model\n",
        "\n",
        "Our model itself is a fairly straightforward linear regression (we'll build more complex models in the next assignment). \n"
      ]
    },
    {
      "cell_type": "code",
      "metadata": {
        "id": "RqxwBwzw-Gij",
        "colab": {
          "base_uri": "https://localhost:8080/"
        },
        "outputId": "60f6de99-a11a-424b-8222-b39e427dc910"
      },
      "source": [
        "input_size = len(input_cols)\n",
        "output_size = len(output_cols)\n",
        "print(input_size, output_size)"
      ],
      "execution_count": 100,
      "outputs": [
        {
          "output_type": "stream",
          "text": [
            "5 1\n"
          ],
          "name": "stdout"
        }
      ]
    },
    {
      "cell_type": "code",
      "metadata": {
        "colab": {
          "base_uri": "https://localhost:8080/"
        },
        "id": "zTyYeSa6ERYN",
        "outputId": "770121f9-1b1d-4cef-bde1-41b37a0793e2"
      },
      "source": [
        "print(len(xb))\n",
        "print(len(yb))"
      ],
      "execution_count": 101,
      "outputs": [
        {
          "output_type": "stream",
          "text": [
            "64\n",
            "64\n"
          ],
          "name": "stdout"
        }
      ]
    },
    {
      "cell_type": "markdown",
      "metadata": {
        "id": "_P5GZIgC-Gik"
      },
      "source": [
        "**Q: Complete the class definition below by filling out the constructor (`__init__`), `forward`, `training_step` and `validation_step` methods.**\n",
        "\n",
        "Hint: Think carefully about picking a good loss fuction (it's not cross entropy). Maybe try 2-3 of them and see which one works best. See https://pytorch.org/docs/stable/nn.functional.html#loss-functions"
      ]
    },
    {
      "cell_type": "code",
      "metadata": {
        "id": "C775SAI6-Gil"
      },
      "source": [
        "class InsuranceModel(nn.Module):\n",
        "    def __init__(self):\n",
        "        super().__init__()\n",
        "        self.linear = nn.Linear(input_size, output_size)    # fill this (hint: use input_size & output_size defined above)\n",
        "        \n",
        "    def forward(self, xb):\n",
        "        out = self.linear(xb)                          # fill this\n",
        "        return out\n",
        "    \n",
        "    def training_step(self, batch):\n",
        "        inputs, targets = batch \n",
        "        # Generate predictions\n",
        "        out = self(inputs)          \n",
        "        # Calcuate loss\n",
        "        loss = F.mse_loss(out, targets)                          # fill this\n",
        "        return loss\n",
        "    \n",
        "    def validation_step(self, batch):\n",
        "        inputs, targets = batch\n",
        "        # Generate predictions\n",
        "        out = self(inputs)\n",
        "        # Calculate loss\n",
        "        loss = F.mse_loss(out, targets)                         # fill this    \n",
        "        return {'val_loss': loss.detach()}\n",
        "        \n",
        "    def validation_epoch_end(self, outputs):\n",
        "        batch_losses = [x['val_loss'] for x in outputs]\n",
        "        epoch_loss = torch.stack(batch_losses).mean()   # Combine losses\n",
        "        return {'val_loss': epoch_loss.item()}\n",
        "    \n",
        "    def epoch_end(self, epoch, result, num_epochs):\n",
        "        # Print result every 20th epoch\n",
        "        if (epoch+1) % 20 == 0 or epoch == num_epochs-1:\n",
        "            print(\"Epoch [{}], val_loss: {:.4f}\".format(epoch+1, result['val_loss']))"
      ],
      "execution_count": 102,
      "outputs": []
    },
    {
      "cell_type": "markdown",
      "metadata": {
        "id": "cRz024hB-Gim"
      },
      "source": [
        "Let us create a model using the `InsuranceModel` class. You may need to come back later and re-run the next cell to reinitialize the model, in case the loss becomes `nan` or `infinity`."
      ]
    },
    {
      "cell_type": "code",
      "metadata": {
        "id": "cTLJPKY2-Gin"
      },
      "source": [
        "model = InsuranceModel()"
      ],
      "execution_count": 103,
      "outputs": []
    },
    {
      "cell_type": "markdown",
      "metadata": {
        "id": "EOC-Wg18-Gin"
      },
      "source": [
        "Let's check out the weights and biases of the model using `model.parameters`."
      ]
    },
    {
      "cell_type": "code",
      "metadata": {
        "id": "krKGaxdl-Gio",
        "colab": {
          "base_uri": "https://localhost:8080/"
        },
        "outputId": "e26afd4c-59dc-448c-81bf-d4f4790640cf"
      },
      "source": [
        "list(model.parameters())"
      ],
      "execution_count": 104,
      "outputs": [
        {
          "output_type": "execute_result",
          "data": {
            "text/plain": [
              "[Parameter containing:\n",
              " tensor([[ 0.0448, -0.3831, -0.1538, -0.3809,  0.0082]], requires_grad=True),\n",
              " Parameter containing:\n",
              " tensor([0.3613], requires_grad=True)]"
            ]
          },
          "metadata": {
            "tags": []
          },
          "execution_count": 104
        }
      ]
    },
    {
      "cell_type": "markdown",
      "metadata": {
        "id": "q4O60agB-Gio"
      },
      "source": [
        "One final commit before we train the model."
      ]
    },
    {
      "cell_type": "code",
      "metadata": {
        "id": "SVmK2iCk-Gip",
        "colab": {
          "base_uri": "https://localhost:8080/",
          "height": 86
        },
        "outputId": "7e23d2b4-b2e2-4425-90ae-7e24d086010d"
      },
      "source": [
        "jovian.commit(project=project_name, environment=None)"
      ],
      "execution_count": 88,
      "outputs": [
        {
          "output_type": "stream",
          "text": [
            "[jovian] Detected Colab notebook...\u001b[0m\n",
            "[jovian] Uploading colab notebook to Jovian...\u001b[0m\n",
            "[jovian] Committed successfully! https://jovian.ai/cyuancheng/02-insurance-linear-regression\u001b[0m\n"
          ],
          "name": "stdout"
        },
        {
          "output_type": "execute_result",
          "data": {
            "application/vnd.google.colaboratory.intrinsic+json": {
              "type": "string"
            },
            "text/plain": [
              "'https://jovian.ai/cyuancheng/02-insurance-linear-regression'"
            ]
          },
          "metadata": {
            "tags": []
          },
          "execution_count": 88
        }
      ]
    },
    {
      "cell_type": "markdown",
      "metadata": {
        "id": "1X3b3cUB-Gip"
      },
      "source": [
        "## Step 4: Train the model to fit the data\n",
        "\n",
        "To train our model, we'll use the same `fit` function explained in the lecture. That's the benefit of defining a generic training loop - you can use it for any problem."
      ]
    },
    {
      "cell_type": "code",
      "metadata": {
        "id": "GVYWyy8n-Gip"
      },
      "source": [
        "def evaluate(model, val_loader):\n",
        "    outputs = [model.validation_step(batch) for batch in val_loader]\n",
        "    return model.validation_epoch_end(outputs)\n",
        "\n",
        "def fit(epochs, lr, model, train_loader, val_loader, opt_func=torch.optim.SGD):\n",
        "    history = []\n",
        "    optimizer = opt_func(model.parameters(), lr)\n",
        "    for epoch in range(epochs):\n",
        "        # Training Phase \n",
        "        for batch in train_loader:\n",
        "            loss = model.training_step(batch)\n",
        "            loss.backward()\n",
        "            optimizer.step()\n",
        "            optimizer.zero_grad()\n",
        "        # Validation phase\n",
        "        result = evaluate(model, val_loader)\n",
        "        model.epoch_end(epoch, result, epochs)\n",
        "        history.append(result)\n",
        "    return history"
      ],
      "execution_count": 105,
      "outputs": []
    },
    {
      "cell_type": "markdown",
      "metadata": {
        "id": "AU47E2k9-Giq"
      },
      "source": [
        "**Q: Use the `evaluate` function to calculate the loss on the validation set before training.**"
      ]
    },
    {
      "cell_type": "code",
      "metadata": {
        "id": "C9-dkBTO-Giq",
        "colab": {
          "base_uri": "https://localhost:8080/"
        },
        "outputId": "526e16d5-a0e7-4d56-95f4-9bcf1279eaf5"
      },
      "source": [
        "result = evaluate(model, val_loader) # Use the the evaluate function\n",
        "print(result)"
      ],
      "execution_count": 106,
      "outputs": [
        {
          "output_type": "stream",
          "text": [
            "{'val_loss': 391117280.0}\n"
          ],
          "name": "stdout"
        }
      ]
    },
    {
      "cell_type": "markdown",
      "metadata": {
        "id": "3RukjfEx-Giq"
      },
      "source": [
        "\n",
        "We are now ready to train the model. You may need to run the training loop many times, for different number of epochs and with different learning rates, to get a good result. Also, if your loss becomes too large (or `nan`), you may have to re-initialize the model by running the cell `model = InsuranceModel()`. Experiment with this for a while, and try to get to as low a loss as possible."
      ]
    },
    {
      "cell_type": "markdown",
      "metadata": {
        "id": "DJtBdWke-Gir"
      },
      "source": [
        "**Q: Train the model 4-5 times with different learning rates & for different number of epochs.**\n",
        "\n",
        "Hint: Vary learning rates by orders of 10 (e.g. `1e-2`, `1e-3`, `1e-4`, `1e-5`, `1e-6`) to figure out what works."
      ]
    },
    {
      "cell_type": "code",
      "metadata": {
        "id": "2-P_gOKR-Gir",
        "colab": {
          "base_uri": "https://localhost:8080/"
        },
        "outputId": "26b8a125-8e61-47b4-f9f4-477f196155cd"
      },
      "source": [
        "epochs = 1000\n",
        "lr = 1e-4\n",
        "history1 = fit(epochs, lr, model, train_loader, val_loader)"
      ],
      "execution_count": 107,
      "outputs": [
        {
          "output_type": "stream",
          "text": [
            "Epoch [20], val_loss: 163944336.0000\n",
            "Epoch [40], val_loss: 162578368.0000\n",
            "Epoch [60], val_loss: 162187968.0000\n",
            "Epoch [80], val_loss: 159884784.0000\n",
            "Epoch [100], val_loss: 156114304.0000\n",
            "Epoch [120], val_loss: 155133088.0000\n",
            "Epoch [140], val_loss: 155092640.0000\n",
            "Epoch [160], val_loss: 152047104.0000\n",
            "Epoch [180], val_loss: 148894752.0000\n",
            "Epoch [200], val_loss: 147261280.0000\n",
            "Epoch [220], val_loss: 145654224.0000\n",
            "Epoch [240], val_loss: 143913264.0000\n",
            "Epoch [260], val_loss: 143489216.0000\n",
            "Epoch [280], val_loss: 141744032.0000\n",
            "Epoch [300], val_loss: 140515584.0000\n",
            "Epoch [320], val_loss: 137871056.0000\n",
            "Epoch [340], val_loss: 137376400.0000\n",
            "Epoch [360], val_loss: 137473696.0000\n",
            "Epoch [380], val_loss: 132966816.0000\n",
            "Epoch [400], val_loss: 132777344.0000\n",
            "Epoch [420], val_loss: 130180608.0000\n",
            "Epoch [440], val_loss: 128556160.0000\n",
            "Epoch [460], val_loss: 127686256.0000\n",
            "Epoch [480], val_loss: 125724960.0000\n",
            "Epoch [500], val_loss: 124501632.0000\n",
            "Epoch [520], val_loss: 123521744.0000\n",
            "Epoch [540], val_loss: 123393592.0000\n",
            "Epoch [560], val_loss: 120616632.0000\n",
            "Epoch [580], val_loss: 119327920.0000\n",
            "Epoch [600], val_loss: 119044320.0000\n",
            "Epoch [620], val_loss: 117810480.0000\n",
            "Epoch [640], val_loss: 115856560.0000\n",
            "Epoch [660], val_loss: 114749000.0000\n",
            "Epoch [680], val_loss: 114451800.0000\n",
            "Epoch [700], val_loss: 116522312.0000\n",
            "Epoch [720], val_loss: 112105136.0000\n",
            "Epoch [740], val_loss: 110919928.0000\n",
            "Epoch [760], val_loss: 111298664.0000\n",
            "Epoch [780], val_loss: 109634344.0000\n",
            "Epoch [800], val_loss: 107627136.0000\n",
            "Epoch [820], val_loss: 106248232.0000\n",
            "Epoch [840], val_loss: 105303376.0000\n",
            "Epoch [860], val_loss: 104514712.0000\n",
            "Epoch [880], val_loss: 103502096.0000\n",
            "Epoch [900], val_loss: 103236736.0000\n",
            "Epoch [920], val_loss: 102091584.0000\n",
            "Epoch [940], val_loss: 100881152.0000\n",
            "Epoch [960], val_loss: 100065208.0000\n",
            "Epoch [980], val_loss: 101489320.0000\n",
            "Epoch [1000], val_loss: 98460728.0000\n"
          ],
          "name": "stdout"
        }
      ]
    },
    {
      "cell_type": "code",
      "metadata": {
        "id": "scgVU7Rd-Gis",
        "colab": {
          "base_uri": "https://localhost:8080/"
        },
        "outputId": "39a1d753-000c-4416-c6bc-5fdbef3e71a0"
      },
      "source": [
        "epochs = 1000\n",
        "lr = 1e-5\n",
        "history3 = fit(epochs, lr, model, train_loader, val_loader)"
      ],
      "execution_count": 108,
      "outputs": [
        {
          "output_type": "stream",
          "text": [
            "Epoch [20], val_loss: 98408680.0000\n",
            "Epoch [40], val_loss: 98337024.0000\n",
            "Epoch [60], val_loss: 98287576.0000\n",
            "Epoch [80], val_loss: 98164456.0000\n",
            "Epoch [100], val_loss: 98156920.0000\n",
            "Epoch [120], val_loss: 98035136.0000\n",
            "Epoch [140], val_loss: 97917280.0000\n",
            "Epoch [160], val_loss: 97831376.0000\n",
            "Epoch [180], val_loss: 97726536.0000\n",
            "Epoch [200], val_loss: 97712832.0000\n",
            "Epoch [220], val_loss: 97627248.0000\n",
            "Epoch [240], val_loss: 97587888.0000\n",
            "Epoch [260], val_loss: 97414272.0000\n",
            "Epoch [280], val_loss: 97354832.0000\n",
            "Epoch [300], val_loss: 97371136.0000\n",
            "Epoch [320], val_loss: 97291304.0000\n",
            "Epoch [340], val_loss: 97090656.0000\n",
            "Epoch [360], val_loss: 97117904.0000\n",
            "Epoch [380], val_loss: 97134976.0000\n",
            "Epoch [400], val_loss: 96866136.0000\n",
            "Epoch [420], val_loss: 96806352.0000\n",
            "Epoch [440], val_loss: 96699144.0000\n",
            "Epoch [460], val_loss: 96628032.0000\n",
            "Epoch [480], val_loss: 96706536.0000\n",
            "Epoch [500], val_loss: 96529208.0000\n",
            "Epoch [520], val_loss: 96452304.0000\n",
            "Epoch [540], val_loss: 96396696.0000\n",
            "Epoch [560], val_loss: 96280080.0000\n",
            "Epoch [580], val_loss: 96257288.0000\n",
            "Epoch [600], val_loss: 96091448.0000\n",
            "Epoch [620], val_loss: 96097480.0000\n",
            "Epoch [640], val_loss: 96008064.0000\n",
            "Epoch [660], val_loss: 95910648.0000\n",
            "Epoch [680], val_loss: 95833112.0000\n",
            "Epoch [700], val_loss: 95738448.0000\n",
            "Epoch [720], val_loss: 95738648.0000\n",
            "Epoch [740], val_loss: 95658112.0000\n",
            "Epoch [760], val_loss: 95488336.0000\n",
            "Epoch [780], val_loss: 95430176.0000\n",
            "Epoch [800], val_loss: 95353216.0000\n",
            "Epoch [820], val_loss: 95316320.0000\n",
            "Epoch [840], val_loss: 95258512.0000\n",
            "Epoch [860], val_loss: 95192680.0000\n",
            "Epoch [880], val_loss: 95062944.0000\n",
            "Epoch [900], val_loss: 94903472.0000\n",
            "Epoch [920], val_loss: 94849328.0000\n",
            "Epoch [940], val_loss: 94859048.0000\n",
            "Epoch [960], val_loss: 94719208.0000\n",
            "Epoch [980], val_loss: 94679424.0000\n",
            "Epoch [1000], val_loss: 94618008.0000\n"
          ],
          "name": "stdout"
        }
      ]
    },
    {
      "cell_type": "code",
      "metadata": {
        "id": "9kL_uk7F-Gis",
        "colab": {
          "base_uri": "https://localhost:8080/"
        },
        "outputId": "96988937-d5f3-49c2-e734-315470de0be1"
      },
      "source": [
        "epochs = 1000\n",
        "lr = 1e-6\n",
        "history4 = fit(epochs, lr, model, train_loader, val_loader)"
      ],
      "execution_count": 109,
      "outputs": [
        {
          "output_type": "stream",
          "text": [
            "Epoch [20], val_loss: 94614112.0000\n",
            "Epoch [40], val_loss: 94607176.0000\n",
            "Epoch [60], val_loss: 94602848.0000\n",
            "Epoch [80], val_loss: 94595584.0000\n",
            "Epoch [100], val_loss: 94587344.0000\n",
            "Epoch [120], val_loss: 94583376.0000\n",
            "Epoch [140], val_loss: 94573008.0000\n",
            "Epoch [160], val_loss: 94563840.0000\n",
            "Epoch [180], val_loss: 94557064.0000\n",
            "Epoch [200], val_loss: 94550784.0000\n",
            "Epoch [220], val_loss: 94544128.0000\n",
            "Epoch [240], val_loss: 94540696.0000\n",
            "Epoch [260], val_loss: 94532424.0000\n",
            "Epoch [280], val_loss: 94520624.0000\n",
            "Epoch [300], val_loss: 94513008.0000\n",
            "Epoch [320], val_loss: 94510752.0000\n",
            "Epoch [340], val_loss: 94504240.0000\n",
            "Epoch [360], val_loss: 94497768.0000\n",
            "Epoch [380], val_loss: 94488496.0000\n",
            "Epoch [400], val_loss: 94476880.0000\n",
            "Epoch [420], val_loss: 94470376.0000\n",
            "Epoch [440], val_loss: 94463776.0000\n",
            "Epoch [460], val_loss: 94454216.0000\n",
            "Epoch [480], val_loss: 94448072.0000\n",
            "Epoch [500], val_loss: 94440624.0000\n",
            "Epoch [520], val_loss: 94431584.0000\n",
            "Epoch [540], val_loss: 94423960.0000\n",
            "Epoch [560], val_loss: 94419504.0000\n",
            "Epoch [580], val_loss: 94417648.0000\n",
            "Epoch [600], val_loss: 94403992.0000\n",
            "Epoch [620], val_loss: 94397128.0000\n",
            "Epoch [640], val_loss: 94394672.0000\n",
            "Epoch [660], val_loss: 94385584.0000\n",
            "Epoch [680], val_loss: 94375648.0000\n",
            "Epoch [700], val_loss: 94369800.0000\n",
            "Epoch [720], val_loss: 94362064.0000\n",
            "Epoch [740], val_loss: 94356384.0000\n",
            "Epoch [760], val_loss: 94346592.0000\n",
            "Epoch [780], val_loss: 94341632.0000\n",
            "Epoch [800], val_loss: 94331352.0000\n",
            "Epoch [820], val_loss: 94322632.0000\n",
            "Epoch [840], val_loss: 94313648.0000\n",
            "Epoch [860], val_loss: 94309904.0000\n",
            "Epoch [880], val_loss: 94300176.0000\n",
            "Epoch [900], val_loss: 94294992.0000\n",
            "Epoch [920], val_loss: 94289952.0000\n",
            "Epoch [940], val_loss: 94278848.0000\n",
            "Epoch [960], val_loss: 94273440.0000\n",
            "Epoch [980], val_loss: 94269448.0000\n",
            "Epoch [1000], val_loss: 94263536.0000\n"
          ],
          "name": "stdout"
        }
      ]
    },
    {
      "cell_type": "code",
      "metadata": {
        "id": "T4bhTaAK-Gis",
        "colab": {
          "base_uri": "https://localhost:8080/"
        },
        "outputId": "1bb6c569-3c79-40fc-c8ea-2b476152a9a3"
      },
      "source": [
        "epochs = 1000\n",
        "lr = 1e-7\n",
        "history5 = fit(epochs, lr, model, train_loader, val_loader)"
      ],
      "execution_count": 110,
      "outputs": [
        {
          "output_type": "stream",
          "text": [
            "Epoch [20], val_loss: 94262168.0000\n",
            "Epoch [40], val_loss: 94261032.0000\n",
            "Epoch [60], val_loss: 94259824.0000\n",
            "Epoch [80], val_loss: 94258896.0000\n",
            "Epoch [100], val_loss: 94257888.0000\n",
            "Epoch [120], val_loss: 94256600.0000\n",
            "Epoch [140], val_loss: 94255408.0000\n",
            "Epoch [160], val_loss: 94254088.0000\n",
            "Epoch [180], val_loss: 94253528.0000\n",
            "Epoch [200], val_loss: 94252720.0000\n",
            "Epoch [220], val_loss: 94252208.0000\n",
            "Epoch [240], val_loss: 94251552.0000\n",
            "Epoch [260], val_loss: 94251456.0000\n",
            "Epoch [280], val_loss: 94250960.0000\n",
            "Epoch [300], val_loss: 94250392.0000\n",
            "Epoch [320], val_loss: 94250024.0000\n",
            "Epoch [340], val_loss: 94249208.0000\n",
            "Epoch [360], val_loss: 94248776.0000\n",
            "Epoch [380], val_loss: 94248384.0000\n",
            "Epoch [400], val_loss: 94248392.0000\n",
            "Epoch [420], val_loss: 94247368.0000\n",
            "Epoch [440], val_loss: 94246768.0000\n",
            "Epoch [460], val_loss: 94246288.0000\n",
            "Epoch [480], val_loss: 94245104.0000\n",
            "Epoch [500], val_loss: 94244200.0000\n",
            "Epoch [520], val_loss: 94243328.0000\n",
            "Epoch [540], val_loss: 94242440.0000\n",
            "Epoch [560], val_loss: 94241968.0000\n",
            "Epoch [580], val_loss: 94240992.0000\n",
            "Epoch [600], val_loss: 94240608.0000\n",
            "Epoch [620], val_loss: 94239856.0000\n",
            "Epoch [640], val_loss: 94239128.0000\n",
            "Epoch [660], val_loss: 94238296.0000\n",
            "Epoch [680], val_loss: 94237480.0000\n",
            "Epoch [700], val_loss: 94236512.0000\n",
            "Epoch [720], val_loss: 94236184.0000\n",
            "Epoch [740], val_loss: 94235424.0000\n",
            "Epoch [760], val_loss: 94235336.0000\n",
            "Epoch [780], val_loss: 94235200.0000\n",
            "Epoch [800], val_loss: 94234624.0000\n",
            "Epoch [820], val_loss: 94234136.0000\n",
            "Epoch [840], val_loss: 94233424.0000\n",
            "Epoch [860], val_loss: 94232760.0000\n",
            "Epoch [880], val_loss: 94232328.0000\n",
            "Epoch [900], val_loss: 94231600.0000\n",
            "Epoch [920], val_loss: 94231256.0000\n",
            "Epoch [940], val_loss: 94230240.0000\n",
            "Epoch [960], val_loss: 94229880.0000\n",
            "Epoch [980], val_loss: 94229200.0000\n",
            "Epoch [1000], val_loss: 94228480.0000\n"
          ],
          "name": "stdout"
        }
      ]
    },
    {
      "cell_type": "markdown",
      "metadata": {
        "id": "-62LN6qi-Git"
      },
      "source": [
        "**Q: What is the final validation loss of your model?**"
      ]
    },
    {
      "cell_type": "code",
      "metadata": {
        "id": "3UfS5yk5-Git",
        "colab": {
          "base_uri": "https://localhost:8080/"
        },
        "outputId": "6fef62db-fcba-4acf-d25f-a85d424c1352"
      },
      "source": [
        "val_loss = evaluate(model, val_loader)\n",
        "val_loss"
      ],
      "execution_count": 115,
      "outputs": [
        {
          "output_type": "execute_result",
          "data": {
            "text/plain": [
              "{'val_loss': 94228480.0}"
            ]
          },
          "metadata": {
            "tags": []
          },
          "execution_count": 115
        }
      ]
    },
    {
      "cell_type": "markdown",
      "metadata": {
        "id": "xxeak3tU-Git"
      },
      "source": [
        "Let's log the final validation loss to Jovian and commit the notebook"
      ]
    },
    {
      "cell_type": "code",
      "metadata": {
        "id": "5gn82eA9-Giu",
        "colab": {
          "base_uri": "https://localhost:8080/"
        },
        "outputId": "12526506-5a83-4656-a21e-b4e40a73d1df"
      },
      "source": [
        "jovian.log_metrics(val_loss=val_loss)"
      ],
      "execution_count": 116,
      "outputs": [
        {
          "output_type": "stream",
          "text": [
            "[jovian] Metrics logged.\u001b[0m\n"
          ],
          "name": "stdout"
        }
      ]
    },
    {
      "cell_type": "code",
      "metadata": {
        "id": "lAdjO-bL-Giv",
        "colab": {
          "base_uri": "https://localhost:8080/",
          "height": 103
        },
        "outputId": "0073ea37-cfdf-4d04-97f2-1339c24d2334"
      },
      "source": [
        "jovian.commit(project=project_name, environment=None)"
      ],
      "execution_count": 117,
      "outputs": [
        {
          "output_type": "stream",
          "text": [
            "[jovian] Detected Colab notebook...\u001b[0m\n",
            "[jovian] Uploading colab notebook to Jovian...\u001b[0m\n",
            "[jovian] Attaching records (metrics, hyperparameters, dataset etc.)\u001b[0m\n",
            "[jovian] Committed successfully! https://jovian.ai/cyuancheng/02-insurance-linear-regression\u001b[0m\n"
          ],
          "name": "stdout"
        },
        {
          "output_type": "execute_result",
          "data": {
            "application/vnd.google.colaboratory.intrinsic+json": {
              "type": "string"
            },
            "text/plain": [
              "'https://jovian.ai/cyuancheng/02-insurance-linear-regression'"
            ]
          },
          "metadata": {
            "tags": []
          },
          "execution_count": 117
        }
      ]
    },
    {
      "cell_type": "markdown",
      "metadata": {
        "id": "rW_-TumE-Giv"
      },
      "source": [
        "Now scroll back up, re-initialize the model, and try different set of values for batch size, number of epochs, learning rate etc. Commit each experiment and use the \"Compare\" and \"View Diff\" options on Jovian to compare the different results."
      ]
    },
    {
      "cell_type": "markdown",
      "metadata": {
        "id": "RqzEkScR-Giw"
      },
      "source": [
        "## Step 5: Make predictions using the trained model\n",
        "\n",
        "**Q: Complete the following function definition to make predictions on a single input**"
      ]
    },
    {
      "cell_type": "code",
      "metadata": {
        "id": "UVN9-BFQ-Gix"
      },
      "source": [
        "def predict_single(input, target, model):\n",
        "    inputs = input.unsqueeze(0)\n",
        "    predictions = model(inputs)                   # fill this\n",
        "    prediction = predictions[0].detach()\n",
        "    print(\"Input:\", input)\n",
        "    print(\"Target:\", target)\n",
        "    print(\"Prediction:\", prediction)"
      ],
      "execution_count": 118,
      "outputs": []
    },
    {
      "cell_type": "code",
      "metadata": {
        "id": "CCPQVhQC-Gix",
        "colab": {
          "base_uri": "https://localhost:8080/"
        },
        "outputId": "dcebdd3d-0247-4edf-e65d-a49791cf9b1a"
      },
      "source": [
        "input, target = val_ds[0]\n",
        "predict_single(input, target, model)"
      ],
      "execution_count": 119,
      "outputs": [
        {
          "output_type": "stream",
          "text": [
            "Input: tensor([18.0000,  0.0000, 38.3240,  0.0000,  1.0000])\n",
            "Target: tensor([37956.9570])\n",
            "Prediction: tensor([17780.3027])\n"
          ],
          "name": "stdout"
        }
      ]
    },
    {
      "cell_type": "code",
      "metadata": {
        "id": "8_aVKgQB-Giy",
        "colab": {
          "base_uri": "https://localhost:8080/"
        },
        "outputId": "2c2cd998-bfc4-4626-d8a3-ca51a1b8f8d0"
      },
      "source": [
        "input, target = val_ds[10]\n",
        "predict_single(input, target, model)"
      ],
      "execution_count": 120,
      "outputs": [
        {
          "output_type": "stream",
          "text": [
            "Input: tensor([44.0000,  0.0000, 28.6000,  1.0000,  0.0000])\n",
            "Target: tensor([8008.3428])\n",
            "Prediction: tensor([12388.4834])\n"
          ],
          "name": "stdout"
        }
      ]
    },
    {
      "cell_type": "code",
      "metadata": {
        "id": "7jKOFElq-Giy",
        "colab": {
          "base_uri": "https://localhost:8080/"
        },
        "outputId": "a1b93ef1-f790-4cf6-cf18-13bafcab144e"
      },
      "source": [
        "input, target = val_ds[23]\n",
        "predict_single(input, target, model)"
      ],
      "execution_count": 121,
      "outputs": [
        {
          "output_type": "stream",
          "text": [
            "Input: tensor([39.0000,  0.0000, 35.4640,  3.0000,  0.0000])\n",
            "Target: tensor([7789.4482])\n",
            "Prediction: tensor([13073.4717])\n"
          ],
          "name": "stdout"
        }
      ]
    },
    {
      "cell_type": "markdown",
      "metadata": {
        "id": "ZQOY0mhG-Gi1"
      },
      "source": [
        "Are you happy with your model's predictions? Try to improve them further."
      ]
    },
    {
      "cell_type": "markdown",
      "metadata": {
        "id": "3YSOARrU-Gi2"
      },
      "source": [
        "## (Optional) Step 6: Try another dataset & blog about it\n",
        "\n",
        "While this last step is optional for the submission of your assignment, we highly recommend that you do it. Try to replicate this notebook for a different linear regression or logistic regression problem. This will help solidify your understanding, and give you a chance to differentiate the generic patterns in machine learning from problem-specific details.You can use one of these starer notebooks (just change the dataset):\n",
        "\n",
        "- Linear regression (minimal): https://jovian.ai/aakashns/housing-linear-minimal\n",
        "- Logistic regression (minimal): https://jovian.ai/aakashns/mnist-logistic-minimal\n",
        "\n",
        "Here are some sources to find good datasets:\n",
        "\n",
        "- https://lionbridge.ai/datasets/10-open-datasets-for-linear-regression/\n",
        "- https://www.kaggle.com/rtatman/datasets-for-regression-analysis\n",
        "- https://archive.ics.uci.edu/ml/datasets.php?format=&task=reg&att=&area=&numAtt=&numIns=&type=&sort=nameUp&view=table\n",
        "- https://people.sc.fsu.edu/~jburkardt/datasets/regression/regression.html\n",
        "- https://archive.ics.uci.edu/ml/datasets/wine+quality\n",
        "- https://pytorch.org/docs/stable/torchvision/datasets.html\n",
        "\n",
        "We also recommend that you write a blog about your approach to the problem. Here is a suggested structure for your post (feel free to experiment with it):\n",
        "\n",
        "- Interesting title & subtitle\n",
        "- Overview of what the blog covers (which dataset, linear regression or logistic regression, intro to PyTorch)\n",
        "- Downloading & exploring the data\n",
        "- Preparing the data for training\n",
        "- Creating a model using PyTorch\n",
        "- Training the model to fit the data\n",
        "- Your thoughts on how to experiment with different hyperparmeters to reduce loss\n",
        "- Making predictions using the model\n",
        "\n",
        "As with the previous assignment, you can [embed Juptyer notebook cells & outputs from Jovian](https://medium.com/jovianml/share-and-embed-jupyter-notebooks-online-with-jovian-ml-df709a03064e) into your blog. \n",
        "\n",
        "Don't forget to share your work on the forum: https://jovian.ai/forum/t/linear-regression-and-logistic-regression-notebooks-and-blog-posts/14039"
      ]
    },
    {
      "cell_type": "code",
      "metadata": {
        "id": "2gEMcMyL-Gi3",
        "outputId": "30a5502a-426e-4e75-e057-5f50eb00c410"
      },
      "source": [
        "jovian.commit(project=project_name, environment=None)\n",
        "jovian.commit(project=project_name, environment=None) # try again, kaggle fails sometimes"
      ],
      "execution_count": null,
      "outputs": [
        {
          "output_type": "display_data",
          "data": {
            "application/javascript": [
              "window.require && require([\"base/js/namespace\"],function(Jupyter){Jupyter.notebook.save_checkpoint()})"
            ],
            "text/plain": [
              "<IPython.core.display.Javascript object>"
            ]
          },
          "metadata": {
            "tags": []
          }
        },
        {
          "output_type": "stream",
          "text": [
            "[jovian] Attempting to save notebook..\u001b[0m\n",
            "[jovian] Updating notebook \"aakashns/02-insurance-linear-regression\" on https://jovian.ai/\u001b[0m\n",
            "[jovian] Uploading notebook..\u001b[0m\n",
            "[jovian] Committed successfully! https://jovian.ai/aakashns/02-insurance-linear-regression\u001b[0m\n"
          ],
          "name": "stdout"
        },
        {
          "output_type": "display_data",
          "data": {
            "application/javascript": [
              "window.require && require([\"base/js/namespace\"],function(Jupyter){Jupyter.notebook.save_checkpoint()})"
            ],
            "text/plain": [
              "<IPython.core.display.Javascript object>"
            ]
          },
          "metadata": {
            "tags": []
          }
        },
        {
          "output_type": "stream",
          "text": [
            "[jovian] Attempting to save notebook..\u001b[0m\n"
          ],
          "name": "stdout"
        }
      ]
    },
    {
      "cell_type": "code",
      "metadata": {
        "id": "RVTTZRJC-Gi3"
      },
      "source": [
        ""
      ],
      "execution_count": null,
      "outputs": []
    }
  ]
}